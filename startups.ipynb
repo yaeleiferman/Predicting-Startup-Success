{
 "cells": [
  {
   "cell_type": "code",
   "execution_count": 2,
   "id": "6a901578-b1bf-4a89-90ba-b7b2518e86d1",
   "metadata": {
    "tags": []
   },
   "outputs": [],
   "source": [
    "import pandas as pd"
   ]
  },
  {
   "cell_type": "code",
   "execution_count": 6,
   "id": "8930b5c8-2536-4d19-9095-b4146e8f31ed",
   "metadata": {},
   "outputs": [],
   "source": [
    "df = pd.read_csv('.csv')"
   ]
  },
  {
   "cell_type": "code",
   "execution_count": null,
   "id": "1eccb61d-0b13-42db-9d8b-b9fcd2e08035",
   "metadata": {},
   "outputs": [],
   "source": []
  }
 ],
 "metadata": {
  "kernelspec": {
   "display_name": "Python 3 (ipykernel)",
   "language": "python",
   "name": "python3"
  },
  "language_info": {
   "codemirror_mode": {
    "name": "ipython",
    "version": 3
   },
   "file_extension": ".py",
   "mimetype": "text/x-python",
   "name": "python",
   "nbconvert_exporter": "python",
   "pygments_lexer": "ipython3",
   "version": "3.11.3"
  }
 },
 "nbformat": 4,
 "nbformat_minor": 5
}
