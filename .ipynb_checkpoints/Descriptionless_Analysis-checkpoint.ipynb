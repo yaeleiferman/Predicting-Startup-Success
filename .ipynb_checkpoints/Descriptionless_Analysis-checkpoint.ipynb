{
 "cells": [
  {
   "cell_type": "code",
   "execution_count": 98,
   "id": "4d9bded6-58ef-4cd5-81de-1c1db4e34a86",
   "metadata": {
    "tags": []
   },
   "outputs": [],
   "source": [
    "import numpy as np\n",
    "import pandas as pd\n",
    "import matplotlib.pyplot as plt"
   ]
  },
  {
   "cell_type": "code",
   "execution_count": 2,
   "id": "b37b7f1c-dec7-4aa5-9d2d-9b06e46e0dfb",
   "metadata": {
    "tags": []
   },
   "outputs": [],
   "source": [
    "# loading in the data\n",
    "companies = pd.read_csv('companies.csv',sep=';')"
   ]
  },
  {
   "cell_type": "code",
   "execution_count": 3,
   "id": "54475b0e-3741-47dc-9076-6aa45d1ca1b1",
   "metadata": {
    "tags": []
   },
   "outputs": [
    {
     "data": {
      "text/html": [
       "<div>\n",
       "<style scoped>\n",
       "    .dataframe tbody tr th:only-of-type {\n",
       "        vertical-align: middle;\n",
       "    }\n",
       "\n",
       "    .dataframe tbody tr th {\n",
       "        vertical-align: top;\n",
       "    }\n",
       "\n",
       "    .dataframe thead th {\n",
       "        text-align: right;\n",
       "    }\n",
       "</style>\n",
       "<table border=\"1\" class=\"dataframe\">\n",
       "  <thead>\n",
       "    <tr style=\"text-align: right;\">\n",
       "      <th></th>\n",
       "      <th>Name</th>\n",
       "      <th>homepage_url</th>\n",
       "      <th>category_list</th>\n",
       "      <th>funding_total_usd</th>\n",
       "      <th>status</th>\n",
       "      <th>country_code</th>\n",
       "      <th>state_code</th>\n",
       "      <th>region</th>\n",
       "      <th>city</th>\n",
       "      <th>funding_rounds</th>\n",
       "      <th>founded_at</th>\n",
       "      <th>first_funding_at</th>\n",
       "      <th>last_funding_at</th>\n",
       "      <th>permalink</th>\n",
       "    </tr>\n",
       "  </thead>\n",
       "  <tbody>\n",
       "    <tr>\n",
       "      <th>0</th>\n",
       "      <td>#fame</td>\n",
       "      <td>http://livfame.com</td>\n",
       "      <td>Media</td>\n",
       "      <td>10000000</td>\n",
       "      <td>operating</td>\n",
       "      <td>IND</td>\n",
       "      <td>16</td>\n",
       "      <td>Mumbai</td>\n",
       "      <td>Mumbai</td>\n",
       "      <td>1</td>\n",
       "      <td>NaN</td>\n",
       "      <td>05/01/2015</td>\n",
       "      <td>05/01/2015</td>\n",
       "      <td>/organization/-fame</td>\n",
       "    </tr>\n",
       "    <tr>\n",
       "      <th>1</th>\n",
       "      <td>:Qounter</td>\n",
       "      <td>http://www.qounter.com</td>\n",
       "      <td>Application Platforms|Real Time|Social Network...</td>\n",
       "      <td>700000</td>\n",
       "      <td>operating</td>\n",
       "      <td>USA</td>\n",
       "      <td>DE</td>\n",
       "      <td>DE - Other</td>\n",
       "      <td>Delaware City</td>\n",
       "      <td>2</td>\n",
       "      <td>04/09/2014</td>\n",
       "      <td>01/03/2014</td>\n",
       "      <td>14/10/2014</td>\n",
       "      <td>/organization/-qounter</td>\n",
       "    </tr>\n",
       "    <tr>\n",
       "      <th>2</th>\n",
       "      <td>(THE) ONE of THEM,Inc.</td>\n",
       "      <td>http://oneofthem.jp</td>\n",
       "      <td>Apps|Games|Mobile</td>\n",
       "      <td>3406878</td>\n",
       "      <td>operating</td>\n",
       "      <td>NaN</td>\n",
       "      <td>NaN</td>\n",
       "      <td>NaN</td>\n",
       "      <td>NaN</td>\n",
       "      <td>1</td>\n",
       "      <td>NaN</td>\n",
       "      <td>30/01/2014</td>\n",
       "      <td>30/01/2014</td>\n",
       "      <td>/organization/-the-one-of-them-inc-</td>\n",
       "    </tr>\n",
       "    <tr>\n",
       "      <th>3</th>\n",
       "      <td>0-6.com</td>\n",
       "      <td>http://www.0-6.com</td>\n",
       "      <td>Curated Web</td>\n",
       "      <td>2000000</td>\n",
       "      <td>operating</td>\n",
       "      <td>CHN</td>\n",
       "      <td>22</td>\n",
       "      <td>Beijing</td>\n",
       "      <td>Beijing</td>\n",
       "      <td>1</td>\n",
       "      <td>01/01/2007</td>\n",
       "      <td>19/03/2008</td>\n",
       "      <td>19/03/2008</td>\n",
       "      <td>/organization/0-6-com</td>\n",
       "    </tr>\n",
       "    <tr>\n",
       "      <th>4</th>\n",
       "      <td>004 Technologies</td>\n",
       "      <td>http://004gmbh.de/en/004-interact</td>\n",
       "      <td>Software</td>\n",
       "      <td>-</td>\n",
       "      <td>operating</td>\n",
       "      <td>USA</td>\n",
       "      <td>IL</td>\n",
       "      <td>Springfield, Illinois</td>\n",
       "      <td>Champaign</td>\n",
       "      <td>1</td>\n",
       "      <td>01/01/2010</td>\n",
       "      <td>24/07/2014</td>\n",
       "      <td>24/07/2014</td>\n",
       "      <td>/organization/004-technologies</td>\n",
       "    </tr>\n",
       "  </tbody>\n",
       "</table>\n",
       "</div>"
      ],
      "text/plain": [
       "                     Name                       homepage_url  \\\n",
       "0                   #fame                 http://livfame.com   \n",
       "1                :Qounter             http://www.qounter.com   \n",
       "2  (THE) ONE of THEM,Inc.                http://oneofthem.jp   \n",
       "3                 0-6.com                 http://www.0-6.com   \n",
       "4        004 Technologies  http://004gmbh.de/en/004-interact   \n",
       "\n",
       "                                       category_list funding_total_usd  \\\n",
       "0                                              Media          10000000   \n",
       "1  Application Platforms|Real Time|Social Network...            700000   \n",
       "2                                  Apps|Games|Mobile           3406878   \n",
       "3                                        Curated Web           2000000   \n",
       "4                                           Software                 -   \n",
       "\n",
       "      status country_code state_code                 region           city  \\\n",
       "0  operating          IND         16                 Mumbai         Mumbai   \n",
       "1  operating          USA         DE             DE - Other  Delaware City   \n",
       "2  operating          NaN        NaN                    NaN            NaN   \n",
       "3  operating          CHN         22                Beijing        Beijing   \n",
       "4  operating          USA         IL  Springfield, Illinois      Champaign   \n",
       "\n",
       "   funding_rounds  founded_at first_funding_at last_funding_at  \\\n",
       "0               1         NaN       05/01/2015      05/01/2015   \n",
       "1               2  04/09/2014       01/03/2014      14/10/2014   \n",
       "2               1         NaN       30/01/2014      30/01/2014   \n",
       "3               1  01/01/2007       19/03/2008      19/03/2008   \n",
       "4               1  01/01/2010       24/07/2014      24/07/2014   \n",
       "\n",
       "                             permalink  \n",
       "0                  /organization/-fame  \n",
       "1               /organization/-qounter  \n",
       "2  /organization/-the-one-of-them-inc-  \n",
       "3                /organization/0-6-com  \n",
       "4       /organization/004-technologies  "
      ]
     },
     "execution_count": 3,
     "metadata": {},
     "output_type": "execute_result"
    }
   ],
   "source": [
    "# surveying\n",
    "companies.head()"
   ]
  },
  {
   "cell_type": "code",
   "execution_count": 4,
   "id": "10d4fb22-3290-43a2-ab95-8485e66ca926",
   "metadata": {
    "tags": []
   },
   "outputs": [
    {
     "name": "stdout",
     "output_type": "stream",
     "text": [
      "<class 'pandas.core.frame.DataFrame'>\n",
      "RangeIndex: 63215 entries, 0 to 63214\n",
      "Data columns (total 14 columns):\n",
      " #   Column             Non-Null Count  Dtype \n",
      "---  ------             --------------  ----- \n",
      " 0   Name               63214 non-null  object\n",
      " 1   homepage_url       59069 non-null  object\n",
      " 2   category_list      63215 non-null  object\n",
      " 3   funding_total_usd  63215 non-null  object\n",
      " 4   status             63215 non-null  object\n",
      " 5   country_code       57799 non-null  object\n",
      " 6   state_code         56263 non-null  object\n",
      " 7   region             56760 non-null  object\n",
      " 8   city               56762 non-null  object\n",
      " 9   funding_rounds     63215 non-null  int64 \n",
      " 10  founded_at         49707 non-null  object\n",
      " 11  first_funding_at   63192 non-null  object\n",
      " 12  last_funding_at    63215 non-null  object\n",
      " 13  permalink          63215 non-null  object\n",
      "dtypes: int64(1), object(13)\n",
      "memory usage: 6.8+ MB\n"
     ]
    }
   ],
   "source": [
    "companies.info()"
   ]
  },
  {
   "cell_type": "code",
   "execution_count": 5,
   "id": "21910ff9-a74f-4fa6-975f-c5783df9b407",
   "metadata": {
    "tags": []
   },
   "outputs": [
    {
     "data": {
      "text/plain": [
       "Name                     1\n",
       "homepage_url          4146\n",
       "category_list            0\n",
       "funding_total_usd        0\n",
       "status                   0\n",
       "country_code          5416\n",
       "state_code            6952\n",
       "region                6455\n",
       "city                  6453\n",
       "funding_rounds           0\n",
       "founded_at           13508\n",
       "first_funding_at        23\n",
       "last_funding_at          0\n",
       "permalink                0\n",
       "dtype: int64"
      ]
     },
     "execution_count": 5,
     "metadata": {},
     "output_type": "execute_result"
    }
   ],
   "source": [
    "companies.isna().sum()"
   ]
  },
  {
   "cell_type": "code",
   "execution_count": 5,
   "id": "04c499b5-99ba-4099-a7eb-d6a7ad175af4",
   "metadata": {
    "tags": []
   },
   "outputs": [
    {
     "data": {
      "text/html": [
       "<div>\n",
       "<style scoped>\n",
       "    .dataframe tbody tr th:only-of-type {\n",
       "        vertical-align: middle;\n",
       "    }\n",
       "\n",
       "    .dataframe tbody tr th {\n",
       "        vertical-align: top;\n",
       "    }\n",
       "\n",
       "    .dataframe thead th {\n",
       "        text-align: right;\n",
       "    }\n",
       "</style>\n",
       "<table border=\"1\" class=\"dataframe\">\n",
       "  <thead>\n",
       "    <tr style=\"text-align: right;\">\n",
       "      <th></th>\n",
       "      <th>Name</th>\n",
       "      <th>homepage_url</th>\n",
       "      <th>category_list</th>\n",
       "      <th>funding_total_usd</th>\n",
       "      <th>status</th>\n",
       "      <th>country_code</th>\n",
       "      <th>state_code</th>\n",
       "      <th>region</th>\n",
       "      <th>city</th>\n",
       "      <th>funding_rounds</th>\n",
       "      <th>founded_at</th>\n",
       "      <th>first_funding_at</th>\n",
       "      <th>last_funding_at</th>\n",
       "      <th>permalink</th>\n",
       "    </tr>\n",
       "  </thead>\n",
       "  <tbody>\n",
       "    <tr>\n",
       "      <th>54191</th>\n",
       "      <td>NaN</td>\n",
       "      <td>http://tellitin10.com</td>\n",
       "      <td>Startups</td>\n",
       "      <td>25000</td>\n",
       "      <td>closed</td>\n",
       "      <td>USA</td>\n",
       "      <td>OR</td>\n",
       "      <td>Portland, Oregon</td>\n",
       "      <td>Portland</td>\n",
       "      <td>1</td>\n",
       "      <td>01/10/2011</td>\n",
       "      <td>01/03/2012</td>\n",
       "      <td>01/03/2012</td>\n",
       "      <td>/organization/tell-it-in</td>\n",
       "    </tr>\n",
       "  </tbody>\n",
       "</table>\n",
       "</div>"
      ],
      "text/plain": [
       "      Name           homepage_url category_list funding_total_usd  status  \\\n",
       "54191  NaN  http://tellitin10.com      Startups             25000  closed   \n",
       "\n",
       "      country_code state_code            region      city  funding_rounds  \\\n",
       "54191          USA         OR  Portland, Oregon  Portland               1   \n",
       "\n",
       "       founded_at first_funding_at last_funding_at                 permalink  \n",
       "54191  01/10/2011       01/03/2012      01/03/2012  /organization/tell-it-in  "
      ]
     },
     "execution_count": 5,
     "metadata": {},
     "output_type": "execute_result"
    }
   ],
   "source": [
    "# checking the row with a missing name\n",
    "companies[companies['Name'].isna()]"
   ]
  },
  {
   "cell_type": "code",
   "execution_count": 6,
   "id": "cb53246e-d02b-4398-8034-dfe94223049a",
   "metadata": {
    "tags": []
   },
   "outputs": [],
   "source": [
    "# just drop that one row\n",
    "companies = companies.dropna(subset='Name')"
   ]
  },
  {
   "cell_type": "code",
   "execution_count": 7,
   "id": "4612ba0b-3b65-460a-a08e-a1475ff27c24",
   "metadata": {
    "tags": []
   },
   "outputs": [
    {
     "data": {
      "text/plain": [
       "(63214, 14)"
      ]
     },
     "execution_count": 7,
     "metadata": {},
     "output_type": "execute_result"
    }
   ],
   "source": [
    "# row is gone\n",
    "companies.shape"
   ]
  },
  {
   "cell_type": "code",
   "execution_count": 8,
   "id": "c7e13131-4301-41fe-8cf5-5d5413b7c970",
   "metadata": {
    "tags": []
   },
   "outputs": [],
   "source": [
    "# I can impute missing URLs by just filling them in with companyname.com\n",
    "# first add unformatted name column for use in creating URLs\n",
    "companies['name_unformatted'] = companies['Name']\n",
    "\n",
    "for i in companies[companies['homepage_url'].isna()].index:\n",
    "    companies.at[i, 'name_unformatted'] = str(companies['name_unformatted'][i]).lower().replace(' ', '')\n",
    "    if not companies['name_unformatted'][i].isalnum():\n",
    "        for char in companies['name_unformatted'][i]:\n",
    "            if not char.isalnum():\n",
    "                companies.at[i, 'name_unformatted'] = companies['name_unformatted'][i].replace(char, '')"
   ]
  },
  {
   "cell_type": "code",
   "execution_count": 9,
   "id": "6642af9b-b9a9-4c0b-88e8-9b87954a9c68",
   "metadata": {
    "tags": []
   },
   "outputs": [],
   "source": [
    "# create URLs using unformatted names for rows with null values\n",
    "\n",
    "for i in companies[companies['homepage_url'].isna()].index:\n",
    "    companies.at[i, 'homepage_url'] = f'{companies[\"name_unformatted\"][i]}.com'"
   ]
  },
  {
   "cell_type": "code",
   "execution_count": 10,
   "id": "b1a0920e-d1c2-447f-b0b8-bfc5f9580649",
   "metadata": {
    "tags": []
   },
   "outputs": [
    {
     "data": {
      "text/plain": [
       "0"
      ]
     },
     "execution_count": 10,
     "metadata": {},
     "output_type": "execute_result"
    }
   ],
   "source": [
    "# nulls are gone\n",
    "companies['homepage_url'].isna().sum()"
   ]
  },
  {
   "cell_type": "code",
   "execution_count": 12,
   "id": "1e15c1dd-1c2f-40b0-82a4-e60e0a49d407",
   "metadata": {
    "tags": []
   },
   "outputs": [
    {
     "data": {
      "text/plain": [
       "'14all.com'"
      ]
     },
     "execution_count": 12,
     "metadata": {},
     "output_type": "execute_result"
    }
   ],
   "source": [
    "# double checking a specific instance\n",
    "companies['homepage_url'][10]"
   ]
  },
  {
   "cell_type": "code",
   "execution_count": 13,
   "id": "78a8c00b-9a74-4f15-84e9-ffb2fddb3e30",
   "metadata": {
    "tags": []
   },
   "outputs": [],
   "source": [
    "# should I create a new column that indicates that these rows' websites are made up? I might need to if I'm going to create a new status column based off of it"
   ]
  },
  {
   "cell_type": "code",
   "execution_count": 11,
   "id": "7c2eeff0-3879-444b-a17e-3ad162068f92",
   "metadata": {
    "tags": []
   },
   "outputs": [
    {
     "data": {
      "text/html": [
       "<div>\n",
       "<style scoped>\n",
       "    .dataframe tbody tr th:only-of-type {\n",
       "        vertical-align: middle;\n",
       "    }\n",
       "\n",
       "    .dataframe tbody tr th {\n",
       "        vertical-align: top;\n",
       "    }\n",
       "\n",
       "    .dataframe thead th {\n",
       "        text-align: right;\n",
       "    }\n",
       "</style>\n",
       "<table border=\"1\" class=\"dataframe\">\n",
       "  <thead>\n",
       "    <tr style=\"text-align: right;\">\n",
       "      <th></th>\n",
       "      <th>country_code</th>\n",
       "      <th>state_code</th>\n",
       "      <th>region</th>\n",
       "      <th>city</th>\n",
       "    </tr>\n",
       "  </thead>\n",
       "  <tbody>\n",
       "    <tr>\n",
       "      <th>0</th>\n",
       "      <td>IND</td>\n",
       "      <td>16</td>\n",
       "      <td>Mumbai</td>\n",
       "      <td>Mumbai</td>\n",
       "    </tr>\n",
       "    <tr>\n",
       "      <th>1</th>\n",
       "      <td>USA</td>\n",
       "      <td>DE</td>\n",
       "      <td>DE - Other</td>\n",
       "      <td>Delaware City</td>\n",
       "    </tr>\n",
       "    <tr>\n",
       "      <th>3</th>\n",
       "      <td>CHN</td>\n",
       "      <td>22</td>\n",
       "      <td>Beijing</td>\n",
       "      <td>Beijing</td>\n",
       "    </tr>\n",
       "    <tr>\n",
       "      <th>4</th>\n",
       "      <td>USA</td>\n",
       "      <td>IL</td>\n",
       "      <td>Springfield, Illinois</td>\n",
       "      <td>Champaign</td>\n",
       "    </tr>\n",
       "    <tr>\n",
       "      <th>5</th>\n",
       "      <td>HKG</td>\n",
       "      <td>NaN</td>\n",
       "      <td>Hong Kong</td>\n",
       "      <td>Hong Kong</td>\n",
       "    </tr>\n",
       "    <tr>\n",
       "      <th>...</th>\n",
       "      <td>...</td>\n",
       "      <td>...</td>\n",
       "      <td>...</td>\n",
       "      <td>...</td>\n",
       "    </tr>\n",
       "    <tr>\n",
       "      <th>63209</th>\n",
       "      <td>AUT</td>\n",
       "      <td>3</td>\n",
       "      <td>Vienna</td>\n",
       "      <td>Gerasdorf Bei Wien</td>\n",
       "    </tr>\n",
       "    <tr>\n",
       "      <th>63210</th>\n",
       "      <td>GBR</td>\n",
       "      <td>H9</td>\n",
       "      <td>London</td>\n",
       "      <td>London</td>\n",
       "    </tr>\n",
       "    <tr>\n",
       "      <th>63211</th>\n",
       "      <td>CHN</td>\n",
       "      <td>22</td>\n",
       "      <td>Beijing</td>\n",
       "      <td>Beijing</td>\n",
       "    </tr>\n",
       "    <tr>\n",
       "      <th>63212</th>\n",
       "      <td>HRV</td>\n",
       "      <td>15</td>\n",
       "      <td>Split</td>\n",
       "      <td>Split</td>\n",
       "    </tr>\n",
       "    <tr>\n",
       "      <th>63213</th>\n",
       "      <td>USA</td>\n",
       "      <td>CA</td>\n",
       "      <td>SF Bay Area</td>\n",
       "      <td>San Francisco</td>\n",
       "    </tr>\n",
       "  </tbody>\n",
       "</table>\n",
       "<p>57798 rows × 4 columns</p>\n",
       "</div>"
      ],
      "text/plain": [
       "      country_code state_code                 region                city\n",
       "0              IND         16                 Mumbai              Mumbai\n",
       "1              USA         DE             DE - Other       Delaware City\n",
       "3              CHN         22                Beijing             Beijing\n",
       "4              USA         IL  Springfield, Illinois           Champaign\n",
       "5              HKG        NaN              Hong Kong           Hong Kong\n",
       "...            ...        ...                    ...                 ...\n",
       "63209          AUT          3                 Vienna  Gerasdorf Bei Wien\n",
       "63210          GBR         H9                 London              London\n",
       "63211          CHN         22                Beijing             Beijing\n",
       "63212          HRV         15                  Split               Split\n",
       "63213          USA         CA            SF Bay Area       San Francisco\n",
       "\n",
       "[57798 rows x 4 columns]"
      ]
     },
     "execution_count": 11,
     "metadata": {},
     "output_type": "execute_result"
    }
   ],
   "source": [
    "# checking for rows where all of the location columns are null\n",
    "companies[['country_code', 'state_code', 'region', 'city']].dropna(how='all') # 57798 rows left, 5416 rows with all null"
   ]
  },
  {
   "cell_type": "code",
   "execution_count": 12,
   "id": "ebc490f1-3fdf-48af-9ab9-d70b04e27e1b",
   "metadata": {
    "tags": []
   },
   "outputs": [],
   "source": [
    "# this is the same number as the total amount of nulls for country_code, probably these rows coincide\n",
    "# I will drop the state_code, region, and city columns and then drop the rows where country_code is null\n",
    "companies.drop(columns=['state_code', 'region', 'city'], inplace=True)"
   ]
  },
  {
   "cell_type": "code",
   "execution_count": 13,
   "id": "9c4a918d-2e98-47aa-a589-19d3cf4270ac",
   "metadata": {
    "tags": []
   },
   "outputs": [],
   "source": [
    "companies.dropna(subset='country_code', inplace=True)"
   ]
  },
  {
   "cell_type": "code",
   "execution_count": 14,
   "id": "c1410587-55fd-4e58-877e-7fb7ba5ce2c7",
   "metadata": {
    "tags": []
   },
   "outputs": [
    {
     "data": {
      "text/html": [
       "<div>\n",
       "<style scoped>\n",
       "    .dataframe tbody tr th:only-of-type {\n",
       "        vertical-align: middle;\n",
       "    }\n",
       "\n",
       "    .dataframe tbody tr th {\n",
       "        vertical-align: top;\n",
       "    }\n",
       "\n",
       "    .dataframe thead th {\n",
       "        text-align: right;\n",
       "    }\n",
       "</style>\n",
       "<table border=\"1\" class=\"dataframe\">\n",
       "  <thead>\n",
       "    <tr style=\"text-align: right;\">\n",
       "      <th></th>\n",
       "      <th>Name</th>\n",
       "      <th>homepage_url</th>\n",
       "      <th>category_list</th>\n",
       "      <th>funding_total_usd</th>\n",
       "      <th>status</th>\n",
       "      <th>country_code</th>\n",
       "      <th>funding_rounds</th>\n",
       "      <th>founded_at</th>\n",
       "      <th>first_funding_at</th>\n",
       "      <th>last_funding_at</th>\n",
       "      <th>permalink</th>\n",
       "      <th>name_unformatted</th>\n",
       "    </tr>\n",
       "  </thead>\n",
       "  <tbody>\n",
       "    <tr>\n",
       "      <th>0</th>\n",
       "      <td>#fame</td>\n",
       "      <td>http://livfame.com</td>\n",
       "      <td>Media</td>\n",
       "      <td>10000000</td>\n",
       "      <td>operating</td>\n",
       "      <td>IND</td>\n",
       "      <td>1</td>\n",
       "      <td>NaN</td>\n",
       "      <td>05/01/2015</td>\n",
       "      <td>05/01/2015</td>\n",
       "      <td>/organization/-fame</td>\n",
       "      <td>#fame</td>\n",
       "    </tr>\n",
       "    <tr>\n",
       "      <th>1</th>\n",
       "      <td>:Qounter</td>\n",
       "      <td>http://www.qounter.com</td>\n",
       "      <td>Application Platforms|Real Time|Social Network...</td>\n",
       "      <td>700000</td>\n",
       "      <td>operating</td>\n",
       "      <td>USA</td>\n",
       "      <td>2</td>\n",
       "      <td>04/09/2014</td>\n",
       "      <td>01/03/2014</td>\n",
       "      <td>14/10/2014</td>\n",
       "      <td>/organization/-qounter</td>\n",
       "      <td>:Qounter</td>\n",
       "    </tr>\n",
       "    <tr>\n",
       "      <th>3</th>\n",
       "      <td>0-6.com</td>\n",
       "      <td>http://www.0-6.com</td>\n",
       "      <td>Curated Web</td>\n",
       "      <td>2000000</td>\n",
       "      <td>operating</td>\n",
       "      <td>CHN</td>\n",
       "      <td>1</td>\n",
       "      <td>01/01/2007</td>\n",
       "      <td>19/03/2008</td>\n",
       "      <td>19/03/2008</td>\n",
       "      <td>/organization/0-6-com</td>\n",
       "      <td>0-6.com</td>\n",
       "    </tr>\n",
       "    <tr>\n",
       "      <th>4</th>\n",
       "      <td>004 Technologies</td>\n",
       "      <td>http://004gmbh.de/en/004-interact</td>\n",
       "      <td>Software</td>\n",
       "      <td>-</td>\n",
       "      <td>operating</td>\n",
       "      <td>USA</td>\n",
       "      <td>1</td>\n",
       "      <td>01/01/2010</td>\n",
       "      <td>24/07/2014</td>\n",
       "      <td>24/07/2014</td>\n",
       "      <td>/organization/004-technologies</td>\n",
       "      <td>004 Technologies</td>\n",
       "    </tr>\n",
       "    <tr>\n",
       "      <th>5</th>\n",
       "      <td>01Games Technology</td>\n",
       "      <td>http://www.01games.hk/</td>\n",
       "      <td>Games</td>\n",
       "      <td>41250</td>\n",
       "      <td>operating</td>\n",
       "      <td>HKG</td>\n",
       "      <td>1</td>\n",
       "      <td>NaN</td>\n",
       "      <td>01/07/2014</td>\n",
       "      <td>01/07/2014</td>\n",
       "      <td>/organization/01games-technology</td>\n",
       "      <td>01Games Technology</td>\n",
       "    </tr>\n",
       "  </tbody>\n",
       "</table>\n",
       "</div>"
      ],
      "text/plain": [
       "                 Name                       homepage_url  \\\n",
       "0               #fame                 http://livfame.com   \n",
       "1            :Qounter             http://www.qounter.com   \n",
       "3             0-6.com                 http://www.0-6.com   \n",
       "4    004 Technologies  http://004gmbh.de/en/004-interact   \n",
       "5  01Games Technology             http://www.01games.hk/   \n",
       "\n",
       "                                       category_list funding_total_usd  \\\n",
       "0                                              Media          10000000   \n",
       "1  Application Platforms|Real Time|Social Network...            700000   \n",
       "3                                        Curated Web           2000000   \n",
       "4                                           Software                 -   \n",
       "5                                              Games             41250   \n",
       "\n",
       "      status country_code  funding_rounds  founded_at first_funding_at  \\\n",
       "0  operating          IND               1         NaN       05/01/2015   \n",
       "1  operating          USA               2  04/09/2014       01/03/2014   \n",
       "3  operating          CHN               1  01/01/2007       19/03/2008   \n",
       "4  operating          USA               1  01/01/2010       24/07/2014   \n",
       "5  operating          HKG               1         NaN       01/07/2014   \n",
       "\n",
       "  last_funding_at                         permalink    name_unformatted  \n",
       "0      05/01/2015               /organization/-fame               #fame  \n",
       "1      14/10/2014            /organization/-qounter            :Qounter  \n",
       "3      19/03/2008             /organization/0-6-com             0-6.com  \n",
       "4      24/07/2014    /organization/004-technologies    004 Technologies  \n",
       "5      01/07/2014  /organization/01games-technology  01Games Technology  "
      ]
     },
     "execution_count": 14,
     "metadata": {},
     "output_type": "execute_result"
    }
   ],
   "source": [
    "companies.head()"
   ]
  },
  {
   "cell_type": "code",
   "execution_count": 16,
   "id": "47a2fcb5-3882-49e5-9c88-598dbd0105f8",
   "metadata": {
    "tags": []
   },
   "outputs": [],
   "source": [
    "# resetting the index since dropping a lot of rows messed it up\n",
    "companies = companies.reset_index(drop=True)"
   ]
  },
  {
   "cell_type": "code",
   "execution_count": 17,
   "id": "50c53149-9e2f-4cd0-ba7f-1c59ae34866a",
   "metadata": {
    "tags": []
   },
   "outputs": [],
   "source": [
    "# I can also get rid of the permalink and name_unformatted columns\n",
    "companies.drop(columns=['permalink', 'name_unformatted'], inplace=True)"
   ]
  },
  {
   "cell_type": "code",
   "execution_count": 18,
   "id": "a0657c44-e6d3-4426-8310-5d05d3bfcb4c",
   "metadata": {
    "tags": []
   },
   "outputs": [
    {
     "data": {
      "text/plain": [
       "Name                     0\n",
       "homepage_url             0\n",
       "category_list            0\n",
       "funding_total_usd        0\n",
       "status                   0\n",
       "country_code             0\n",
       "funding_rounds           0\n",
       "founded_at           11275\n",
       "first_funding_at        22\n",
       "last_funding_at          0\n",
       "dtype: int64"
      ]
     },
     "execution_count": 18,
     "metadata": {},
     "output_type": "execute_result"
    }
   ],
   "source": [
    "companies.isna().sum()"
   ]
  },
  {
   "cell_type": "code",
   "execution_count": 19,
   "id": "3fd52f5c-094d-4cc3-aeeb-1374f791d326",
   "metadata": {
    "tags": []
   },
   "outputs": [
    {
     "name": "stdout",
     "output_type": "stream",
     "text": [
      "<class 'pandas.core.frame.DataFrame'>\n",
      "RangeIndex: 57798 entries, 0 to 57797\n",
      "Data columns (total 10 columns):\n",
      " #   Column             Non-Null Count  Dtype \n",
      "---  ------             --------------  ----- \n",
      " 0   Name               57798 non-null  object\n",
      " 1   homepage_url       57798 non-null  object\n",
      " 2   category_list      57798 non-null  object\n",
      " 3   funding_total_usd  57798 non-null  object\n",
      " 4   status             57798 non-null  object\n",
      " 5   country_code       57798 non-null  object\n",
      " 6   funding_rounds     57798 non-null  int64 \n",
      " 7   founded_at         46523 non-null  object\n",
      " 8   first_funding_at   57776 non-null  object\n",
      " 9   last_funding_at    57798 non-null  object\n",
      "dtypes: int64(1), object(9)\n",
      "memory usage: 4.4+ MB\n"
     ]
    }
   ],
   "source": [
    "# check if founded_at and first_funding_at dates coincide at all for most companies\n",
    "# if so then impute missing values for founded_at from first_funding_at and vice versa\n",
    "# but first make date columns datetime types\n",
    "companies.info() # currently they are objects"
   ]
  },
  {
   "cell_type": "code",
   "execution_count": null,
   "id": "61c94211-8de9-41e4-88e5-fca42878c6eb",
   "metadata": {},
   "outputs": [],
   "source": [
    "# I ran all the subsequent cells in the process of figuring out how to change the column to datetime\n",
    "# they are commented out because they all returned errors and I wanted to be able to run all cells in the notebook automatically"
   ]
  },
  {
   "cell_type": "code",
   "execution_count": 22,
   "id": "f5455af3-65b7-40be-953e-4caf8b55503b",
   "metadata": {
    "tags": []
   },
   "outputs": [],
   "source": [
    "#companies['founded_at'] = pd.to_datetime(companies['founded_at'])"
   ]
  },
  {
   "cell_type": "code",
   "execution_count": 23,
   "id": "2402d20a-3534-4d91-b900-08956a37e919",
   "metadata": {
    "tags": []
   },
   "outputs": [],
   "source": [
    "#companies['founded_at'] = pd.to_datetime(companies['founded_at'], dayfirst=True)"
   ]
  },
  {
   "cell_type": "code",
   "execution_count": 24,
   "id": "b770e2bc-4196-476b-bd5a-8b5aebf8f5c9",
   "metadata": {
    "tags": []
   },
   "outputs": [],
   "source": [
    "#companies['founded_at'] = pd.to_datetime(companies['founded_at'], format='ISO8601')"
   ]
  },
  {
   "cell_type": "code",
   "execution_count": 25,
   "id": "438ed471-02c0-4694-bc20-bee2bad113d1",
   "metadata": {
    "tags": []
   },
   "outputs": [],
   "source": [
    "#companies['founded_at'] = pd.to_datetime(companies['founded_at'], format='mixed')"
   ]
  },
  {
   "cell_type": "code",
   "execution_count": 20,
   "id": "f0d17950-291a-4358-940a-f360f3abdb31",
   "metadata": {
    "tags": []
   },
   "outputs": [
    {
     "data": {
      "text/html": [
       "<div>\n",
       "<style scoped>\n",
       "    .dataframe tbody tr th:only-of-type {\n",
       "        vertical-align: middle;\n",
       "    }\n",
       "\n",
       "    .dataframe tbody tr th {\n",
       "        vertical-align: top;\n",
       "    }\n",
       "\n",
       "    .dataframe thead th {\n",
       "        text-align: right;\n",
       "    }\n",
       "</style>\n",
       "<table border=\"1\" class=\"dataframe\">\n",
       "  <thead>\n",
       "    <tr style=\"text-align: right;\">\n",
       "      <th></th>\n",
       "      <th>Name</th>\n",
       "      <th>homepage_url</th>\n",
       "      <th>category_list</th>\n",
       "      <th>funding_total_usd</th>\n",
       "      <th>status</th>\n",
       "      <th>country_code</th>\n",
       "      <th>funding_rounds</th>\n",
       "      <th>founded_at</th>\n",
       "      <th>first_funding_at</th>\n",
       "      <th>last_funding_at</th>\n",
       "    </tr>\n",
       "  </thead>\n",
       "  <tbody>\n",
       "    <tr>\n",
       "      <th>21741</th>\n",
       "      <td>Harvard University</td>\n",
       "      <td>http://harvard.edu</td>\n",
       "      <td>Colleges|Education|Universities</td>\n",
       "      <td>90000000</td>\n",
       "      <td>operating</td>\n",
       "      <td>USA</td>\n",
       "      <td>1</td>\n",
       "      <td>1636-09-08</td>\n",
       "      <td>06/01/2014</td>\n",
       "      <td>06/01/2014</td>\n",
       "    </tr>\n",
       "  </tbody>\n",
       "</table>\n",
       "</div>"
      ],
      "text/plain": [
       "                     Name        homepage_url  \\\n",
       "21741  Harvard University  http://harvard.edu   \n",
       "\n",
       "                         category_list funding_total_usd     status  \\\n",
       "21741  Colleges|Education|Universities          90000000  operating   \n",
       "\n",
       "      country_code  funding_rounds  founded_at first_funding_at  \\\n",
       "21741          USA               1  1636-09-08       06/01/2014   \n",
       "\n",
       "      last_funding_at  \n",
       "21741      06/01/2014  "
      ]
     },
     "execution_count": 20,
     "metadata": {},
     "output_type": "execute_result"
    }
   ],
   "source": [
    "companies[companies['founded_at'] == '1636-09-08']"
   ]
  },
  {
   "cell_type": "code",
   "execution_count": 21,
   "id": "517a2919-52c3-4c07-8df5-643ae875ac74",
   "metadata": {
    "tags": []
   },
   "outputs": [
    {
     "data": {
      "text/plain": [
       "(57798, 10)"
      ]
     },
     "execution_count": 21,
     "metadata": {},
     "output_type": "execute_result"
    }
   ],
   "source": [
    "companies.shape"
   ]
  },
  {
   "cell_type": "code",
   "execution_count": 22,
   "id": "df62bf52-ffa9-4408-9d37-15c1f7db3f44",
   "metadata": {
    "tags": []
   },
   "outputs": [],
   "source": [
    "companies.drop(21741, inplace=True)"
   ]
  },
  {
   "cell_type": "code",
   "execution_count": 23,
   "id": "3b124a0d-7350-4db5-bf55-072bad63a6cd",
   "metadata": {
    "tags": []
   },
   "outputs": [
    {
     "data": {
      "text/plain": [
       "(57797, 10)"
      ]
     },
     "execution_count": 23,
     "metadata": {},
     "output_type": "execute_result"
    }
   ],
   "source": [
    "companies.shape"
   ]
  },
  {
   "cell_type": "code",
   "execution_count": 24,
   "id": "efac926d-7043-47ad-9e9e-851cc7f8ba41",
   "metadata": {
    "tags": []
   },
   "outputs": [],
   "source": [
    "# let's try running the datetime cell again\n",
    "companies['founded_at'] = pd.to_datetime(companies['founded_at'], format='mixed')"
   ]
  },
  {
   "cell_type": "code",
   "execution_count": 25,
   "id": "0c204498-2c24-4126-9b35-c2e867785079",
   "metadata": {
    "tags": []
   },
   "outputs": [
    {
     "name": "stdout",
     "output_type": "stream",
     "text": [
      "<class 'pandas.core.frame.DataFrame'>\n",
      "Index: 57797 entries, 0 to 57797\n",
      "Data columns (total 10 columns):\n",
      " #   Column             Non-Null Count  Dtype         \n",
      "---  ------             --------------  -----         \n",
      " 0   Name               57797 non-null  object        \n",
      " 1   homepage_url       57797 non-null  object        \n",
      " 2   category_list      57797 non-null  object        \n",
      " 3   funding_total_usd  57797 non-null  object        \n",
      " 4   status             57797 non-null  object        \n",
      " 5   country_code       57797 non-null  object        \n",
      " 6   funding_rounds     57797 non-null  int64         \n",
      " 7   founded_at         46522 non-null  datetime64[ns]\n",
      " 8   first_funding_at   57775 non-null  object        \n",
      " 9   last_funding_at    57797 non-null  object        \n",
      "dtypes: datetime64[ns](1), int64(1), object(8)\n",
      "memory usage: 4.9+ MB\n"
     ]
    }
   ],
   "source": [
    "companies.info() # success!"
   ]
  },
  {
   "cell_type": "code",
   "execution_count": 26,
   "id": "b1df2d15-a7a0-44fa-8aaa-66775add026a",
   "metadata": {
    "tags": []
   },
   "outputs": [
    {
     "data": {
      "text/html": [
       "<div>\n",
       "<style scoped>\n",
       "    .dataframe tbody tr th:only-of-type {\n",
       "        vertical-align: middle;\n",
       "    }\n",
       "\n",
       "    .dataframe tbody tr th {\n",
       "        vertical-align: top;\n",
       "    }\n",
       "\n",
       "    .dataframe thead th {\n",
       "        text-align: right;\n",
       "    }\n",
       "</style>\n",
       "<table border=\"1\" class=\"dataframe\">\n",
       "  <thead>\n",
       "    <tr style=\"text-align: right;\">\n",
       "      <th></th>\n",
       "      <th>Name</th>\n",
       "      <th>homepage_url</th>\n",
       "      <th>category_list</th>\n",
       "      <th>funding_total_usd</th>\n",
       "      <th>status</th>\n",
       "      <th>country_code</th>\n",
       "      <th>funding_rounds</th>\n",
       "      <th>founded_at</th>\n",
       "      <th>first_funding_at</th>\n",
       "      <th>last_funding_at</th>\n",
       "    </tr>\n",
       "  </thead>\n",
       "  <tbody>\n",
       "    <tr>\n",
       "      <th>0</th>\n",
       "      <td>#fame</td>\n",
       "      <td>http://livfame.com</td>\n",
       "      <td>Media</td>\n",
       "      <td>10000000</td>\n",
       "      <td>operating</td>\n",
       "      <td>IND</td>\n",
       "      <td>1</td>\n",
       "      <td>NaT</td>\n",
       "      <td>05/01/2015</td>\n",
       "      <td>05/01/2015</td>\n",
       "    </tr>\n",
       "    <tr>\n",
       "      <th>1</th>\n",
       "      <td>:Qounter</td>\n",
       "      <td>http://www.qounter.com</td>\n",
       "      <td>Application Platforms|Real Time|Social Network...</td>\n",
       "      <td>700000</td>\n",
       "      <td>operating</td>\n",
       "      <td>USA</td>\n",
       "      <td>2</td>\n",
       "      <td>2014-04-09</td>\n",
       "      <td>01/03/2014</td>\n",
       "      <td>14/10/2014</td>\n",
       "    </tr>\n",
       "    <tr>\n",
       "      <th>2</th>\n",
       "      <td>0-6.com</td>\n",
       "      <td>http://www.0-6.com</td>\n",
       "      <td>Curated Web</td>\n",
       "      <td>2000000</td>\n",
       "      <td>operating</td>\n",
       "      <td>CHN</td>\n",
       "      <td>1</td>\n",
       "      <td>2007-01-01</td>\n",
       "      <td>19/03/2008</td>\n",
       "      <td>19/03/2008</td>\n",
       "    </tr>\n",
       "    <tr>\n",
       "      <th>3</th>\n",
       "      <td>004 Technologies</td>\n",
       "      <td>http://004gmbh.de/en/004-interact</td>\n",
       "      <td>Software</td>\n",
       "      <td>-</td>\n",
       "      <td>operating</td>\n",
       "      <td>USA</td>\n",
       "      <td>1</td>\n",
       "      <td>2010-01-01</td>\n",
       "      <td>24/07/2014</td>\n",
       "      <td>24/07/2014</td>\n",
       "    </tr>\n",
       "    <tr>\n",
       "      <th>4</th>\n",
       "      <td>01Games Technology</td>\n",
       "      <td>http://www.01games.hk/</td>\n",
       "      <td>Games</td>\n",
       "      <td>41250</td>\n",
       "      <td>operating</td>\n",
       "      <td>HKG</td>\n",
       "      <td>1</td>\n",
       "      <td>NaT</td>\n",
       "      <td>01/07/2014</td>\n",
       "      <td>01/07/2014</td>\n",
       "    </tr>\n",
       "  </tbody>\n",
       "</table>\n",
       "</div>"
      ],
      "text/plain": [
       "                 Name                       homepage_url  \\\n",
       "0               #fame                 http://livfame.com   \n",
       "1            :Qounter             http://www.qounter.com   \n",
       "2             0-6.com                 http://www.0-6.com   \n",
       "3    004 Technologies  http://004gmbh.de/en/004-interact   \n",
       "4  01Games Technology             http://www.01games.hk/   \n",
       "\n",
       "                                       category_list funding_total_usd  \\\n",
       "0                                              Media          10000000   \n",
       "1  Application Platforms|Real Time|Social Network...            700000   \n",
       "2                                        Curated Web           2000000   \n",
       "3                                           Software                 -   \n",
       "4                                              Games             41250   \n",
       "\n",
       "      status country_code  funding_rounds founded_at first_funding_at  \\\n",
       "0  operating          IND               1        NaT       05/01/2015   \n",
       "1  operating          USA               2 2014-04-09       01/03/2014   \n",
       "2  operating          CHN               1 2007-01-01       19/03/2008   \n",
       "3  operating          USA               1 2010-01-01       24/07/2014   \n",
       "4  operating          HKG               1        NaT       01/07/2014   \n",
       "\n",
       "  last_funding_at  \n",
       "0      05/01/2015  \n",
       "1      14/10/2014  \n",
       "2      19/03/2008  \n",
       "3      24/07/2014  \n",
       "4      01/07/2014  "
      ]
     },
     "execution_count": 26,
     "metadata": {},
     "output_type": "execute_result"
    }
   ],
   "source": [
    "companies.head() # nan changed to NaT"
   ]
  },
  {
   "cell_type": "code",
   "execution_count": 27,
   "id": "2a611127-8e97-4267-9f42-28f62946cb47",
   "metadata": {
    "tags": []
   },
   "outputs": [],
   "source": [
    "# let's try the same for first_funding_at\n",
    "#companies['first_funding_at'] = pd.to_datetime(companies['first_funding_at'], format='mixed')"
   ]
  },
  {
   "cell_type": "code",
   "execution_count": 28,
   "id": "600e9d6b-75d1-40bf-bb51-1ca18ec7d879",
   "metadata": {
    "tags": []
   },
   "outputs": [
    {
     "data": {
      "text/plain": [
       "Name                                                  Blaze Bioscience\n",
       "homepage_url                            http://www.blazebioscience.com\n",
       "category_list        Biotechnology|Health Care|Health Care Informat...\n",
       "funding_total_usd                                             32936998\n",
       "status                                                       operating\n",
       "country_code                                                       USA\n",
       "funding_rounds                                                       5\n",
       "founded_at                                         2010-01-01 00:00:00\n",
       "first_funding_at                                            1532-06-26\n",
       "last_funding_at                                             03/12/2013\n",
       "Name: 6527, dtype: object"
      ]
     },
     "execution_count": 28,
     "metadata": {},
     "output_type": "execute_result"
    }
   ],
   "source": [
    "companies.loc[6527]"
   ]
  },
  {
   "cell_type": "code",
   "execution_count": 29,
   "id": "3e46ef60-17c2-48da-b472-211c397f9e12",
   "metadata": {
    "tags": []
   },
   "outputs": [
    {
     "data": {
      "text/html": [
       "<div>\n",
       "<style scoped>\n",
       "    .dataframe tbody tr th:only-of-type {\n",
       "        vertical-align: middle;\n",
       "    }\n",
       "\n",
       "    .dataframe tbody tr th {\n",
       "        vertical-align: top;\n",
       "    }\n",
       "\n",
       "    .dataframe thead th {\n",
       "        text-align: right;\n",
       "    }\n",
       "</style>\n",
       "<table border=\"1\" class=\"dataframe\">\n",
       "  <thead>\n",
       "    <tr style=\"text-align: right;\">\n",
       "      <th></th>\n",
       "      <th>Name</th>\n",
       "      <th>homepage_url</th>\n",
       "      <th>category_list</th>\n",
       "      <th>funding_total_usd</th>\n",
       "      <th>status</th>\n",
       "      <th>country_code</th>\n",
       "      <th>funding_rounds</th>\n",
       "      <th>founded_at</th>\n",
       "      <th>first_funding_at</th>\n",
       "      <th>last_funding_at</th>\n",
       "    </tr>\n",
       "  </thead>\n",
       "  <tbody>\n",
       "    <tr>\n",
       "      <th>6527</th>\n",
       "      <td>Blaze Bioscience</td>\n",
       "      <td>http://www.blazebioscience.com</td>\n",
       "      <td>Biotechnology|Health Care|Health Care Informat...</td>\n",
       "      <td>32936998</td>\n",
       "      <td>operating</td>\n",
       "      <td>USA</td>\n",
       "      <td>5</td>\n",
       "      <td>2010-01-01</td>\n",
       "      <td>1532-06-26</td>\n",
       "      <td>03/12/2013</td>\n",
       "    </tr>\n",
       "  </tbody>\n",
       "</table>\n",
       "</div>"
      ],
      "text/plain": [
       "                  Name                    homepage_url  \\\n",
       "6527  Blaze Bioscience  http://www.blazebioscience.com   \n",
       "\n",
       "                                          category_list funding_total_usd  \\\n",
       "6527  Biotechnology|Health Care|Health Care Informat...          32936998   \n",
       "\n",
       "         status country_code  funding_rounds founded_at first_funding_at  \\\n",
       "6527  operating          USA               5 2010-01-01       1532-06-26   \n",
       "\n",
       "     last_funding_at  \n",
       "6527      03/12/2013  "
      ]
     },
     "execution_count": 29,
     "metadata": {},
     "output_type": "execute_result"
    }
   ],
   "source": [
    "companies[companies['first_funding_at'] == '1532-06-26']"
   ]
  },
  {
   "cell_type": "code",
   "execution_count": 30,
   "id": "a510cd0c-d1dd-4f89-afd8-255e041a3d33",
   "metadata": {
    "tags": []
   },
   "outputs": [],
   "source": [
    "# this is clearly an erroneous date, but it's a real company so I don't want to drop the row. I'll change this value to nan\n",
    "companies.at[6527, 'first_funding_at'] = np.nan"
   ]
  },
  {
   "cell_type": "code",
   "execution_count": 31,
   "id": "a38d31d1-599e-4f7e-a953-2d24ab79c518",
   "metadata": {
    "tags": []
   },
   "outputs": [
    {
     "data": {
      "text/plain": [
       "Name                                                  Blaze Bioscience\n",
       "homepage_url                            http://www.blazebioscience.com\n",
       "category_list        Biotechnology|Health Care|Health Care Informat...\n",
       "funding_total_usd                                             32936998\n",
       "status                                                       operating\n",
       "country_code                                                       USA\n",
       "funding_rounds                                                       5\n",
       "founded_at                                         2010-01-01 00:00:00\n",
       "first_funding_at                                                   NaN\n",
       "last_funding_at                                             03/12/2013\n",
       "Name: 6527, dtype: object"
      ]
     },
     "execution_count": 31,
     "metadata": {},
     "output_type": "execute_result"
    }
   ],
   "source": [
    "companies.loc[6527] # it's been changed"
   ]
  },
  {
   "cell_type": "code",
   "execution_count": 32,
   "id": "5436723d-a259-41d7-bb43-c48f1253cbfc",
   "metadata": {
    "tags": []
   },
   "outputs": [],
   "source": [
    "# try again\n",
    "#companies['first_funding_at'] = pd.to_datetime(companies['first_funding_at'], format='mixed')"
   ]
  },
  {
   "cell_type": "code",
   "execution_count": 33,
   "id": "49c0ccd7-156a-4a1f-9f18-aa6d007b3482",
   "metadata": {
    "tags": []
   },
   "outputs": [
    {
     "data": {
      "text/plain": [
       "Name                                                         Gamewheel\n",
       "homepage_url                                       http://gamewheel.co\n",
       "category_list        Brand Marketing|Game|Mobile Advertising|Social...\n",
       "funding_total_usd                                                    -\n",
       "status                                                       operating\n",
       "country_code                                                       DEU\n",
       "funding_rounds                                                       2\n",
       "founded_at                                                         NaT\n",
       "first_funding_at                                            1201-11-23\n",
       "last_funding_at                                             03/12/2014\n",
       "Name: 19467, dtype: object"
      ]
     },
     "execution_count": 33,
     "metadata": {},
     "output_type": "execute_result"
    }
   ],
   "source": [
    "companies.loc[19467]"
   ]
  },
  {
   "cell_type": "code",
   "execution_count": 34,
   "id": "5cc83f9e-87e1-46b6-8850-33bf7063cf81",
   "metadata": {
    "tags": []
   },
   "outputs": [
    {
     "data": {
      "text/html": [
       "<div>\n",
       "<style scoped>\n",
       "    .dataframe tbody tr th:only-of-type {\n",
       "        vertical-align: middle;\n",
       "    }\n",
       "\n",
       "    .dataframe tbody tr th {\n",
       "        vertical-align: top;\n",
       "    }\n",
       "\n",
       "    .dataframe thead th {\n",
       "        text-align: right;\n",
       "    }\n",
       "</style>\n",
       "<table border=\"1\" class=\"dataframe\">\n",
       "  <thead>\n",
       "    <tr style=\"text-align: right;\">\n",
       "      <th></th>\n",
       "      <th>Name</th>\n",
       "      <th>homepage_url</th>\n",
       "      <th>category_list</th>\n",
       "      <th>funding_total_usd</th>\n",
       "      <th>status</th>\n",
       "      <th>country_code</th>\n",
       "      <th>funding_rounds</th>\n",
       "      <th>founded_at</th>\n",
       "      <th>first_funding_at</th>\n",
       "      <th>last_funding_at</th>\n",
       "    </tr>\n",
       "  </thead>\n",
       "  <tbody>\n",
       "    <tr>\n",
       "      <th>19467</th>\n",
       "      <td>Gamewheel</td>\n",
       "      <td>http://gamewheel.co</td>\n",
       "      <td>Brand Marketing|Game|Mobile Advertising|Social...</td>\n",
       "      <td>-</td>\n",
       "      <td>operating</td>\n",
       "      <td>DEU</td>\n",
       "      <td>2</td>\n",
       "      <td>NaT</td>\n",
       "      <td>1201-11-23</td>\n",
       "      <td>03/12/2014</td>\n",
       "    </tr>\n",
       "  </tbody>\n",
       "</table>\n",
       "</div>"
      ],
      "text/plain": [
       "            Name         homepage_url  \\\n",
       "19467  Gamewheel  http://gamewheel.co   \n",
       "\n",
       "                                           category_list funding_total_usd  \\\n",
       "19467  Brand Marketing|Game|Mobile Advertising|Social...                 -   \n",
       "\n",
       "          status country_code  funding_rounds founded_at first_funding_at  \\\n",
       "19467  operating          DEU               2        NaT       1201-11-23   \n",
       "\n",
       "      last_funding_at  \n",
       "19467      03/12/2014  "
      ]
     },
     "execution_count": 34,
     "metadata": {},
     "output_type": "execute_result"
    }
   ],
   "source": [
    "companies[companies['first_funding_at'] == '1201-11-23']"
   ]
  },
  {
   "cell_type": "code",
   "execution_count": 35,
   "id": "2971a2aa-9191-4fd7-aa35-309f7b979e7b",
   "metadata": {
    "tags": []
   },
   "outputs": [],
   "source": [
    "# this also seems like a mess up, change it to nan as well\n",
    "companies.at[19467, 'first_funding_at'] = np.nan"
   ]
  },
  {
   "cell_type": "code",
   "execution_count": 36,
   "id": "450851e8-a966-4af7-8c6e-1261bdd1e830",
   "metadata": {
    "tags": []
   },
   "outputs": [
    {
     "data": {
      "text/plain": [
       "Name                                                         Gamewheel\n",
       "homepage_url                                       http://gamewheel.co\n",
       "category_list        Brand Marketing|Game|Mobile Advertising|Social...\n",
       "funding_total_usd                                                    -\n",
       "status                                                       operating\n",
       "country_code                                                       DEU\n",
       "funding_rounds                                                       2\n",
       "founded_at                                                         NaT\n",
       "first_funding_at                                                   NaN\n",
       "last_funding_at                                             03/12/2014\n",
       "Name: 19467, dtype: object"
      ]
     },
     "execution_count": 36,
     "metadata": {},
     "output_type": "execute_result"
    }
   ],
   "source": [
    "companies.loc[19467]"
   ]
  },
  {
   "cell_type": "code",
   "execution_count": 37,
   "id": "55c827ce-0256-40c4-9378-2df3fcb86d19",
   "metadata": {
    "tags": []
   },
   "outputs": [],
   "source": [
    "# and again\n",
    "#companies['first_funding_at'] = pd.to_datetime(companies['first_funding_at'], format='mixed')"
   ]
  },
  {
   "cell_type": "code",
   "execution_count": 38,
   "id": "26cc95ea-53b0-41bd-b8fa-e217587f9f56",
   "metadata": {
    "tags": []
   },
   "outputs": [
    {
     "data": {
      "text/plain": [
       "Name                                 MouseHouseApp\n",
       "homepage_url         http://www.mousehouseapp.com/\n",
       "category_list          Apps|Life Sciences|Software\n",
       "funding_total_usd                                -\n",
       "status                                   operating\n",
       "country_code                                   USA\n",
       "funding_rounds                                   1\n",
       "founded_at                     2011-01-01 00:00:00\n",
       "first_funding_at                        10/10/2014\n",
       "last_funding_at                         10/10/2014\n",
       "Name: 32433, dtype: object"
      ]
     },
     "execution_count": 38,
     "metadata": {},
     "output_type": "execute_result"
    }
   ],
   "source": [
    "companies.loc[32433] # this doesn't seem right..."
   ]
  },
  {
   "cell_type": "code",
   "execution_count": 39,
   "id": "a202d84d-7441-474c-9eb9-f5be9245d0c3",
   "metadata": {
    "tags": []
   },
   "outputs": [
    {
     "data": {
      "text/html": [
       "<div>\n",
       "<style scoped>\n",
       "    .dataframe tbody tr th:only-of-type {\n",
       "        vertical-align: middle;\n",
       "    }\n",
       "\n",
       "    .dataframe tbody tr th {\n",
       "        vertical-align: top;\n",
       "    }\n",
       "\n",
       "    .dataframe thead th {\n",
       "        text-align: right;\n",
       "    }\n",
       "</style>\n",
       "<table border=\"1\" class=\"dataframe\">\n",
       "  <thead>\n",
       "    <tr style=\"text-align: right;\">\n",
       "      <th></th>\n",
       "      <th>Name</th>\n",
       "      <th>homepage_url</th>\n",
       "      <th>category_list</th>\n",
       "      <th>funding_total_usd</th>\n",
       "      <th>status</th>\n",
       "      <th>country_code</th>\n",
       "      <th>funding_rounds</th>\n",
       "      <th>founded_at</th>\n",
       "      <th>first_funding_at</th>\n",
       "      <th>last_funding_at</th>\n",
       "    </tr>\n",
       "  </thead>\n",
       "  <tbody>\n",
       "    <tr>\n",
       "      <th>32434</th>\n",
       "      <td>Mousera</td>\n",
       "      <td>http://www.mousera.com</td>\n",
       "      <td>Biotechnology</td>\n",
       "      <td>29940004</td>\n",
       "      <td>operating</td>\n",
       "      <td>USA</td>\n",
       "      <td>3</td>\n",
       "      <td>2013-01-01</td>\n",
       "      <td>1014-03-01</td>\n",
       "      <td>09/06/2015</td>\n",
       "    </tr>\n",
       "  </tbody>\n",
       "</table>\n",
       "</div>"
      ],
      "text/plain": [
       "          Name            homepage_url  category_list funding_total_usd  \\\n",
       "32434  Mousera  http://www.mousera.com  Biotechnology          29940004   \n",
       "\n",
       "          status country_code  funding_rounds founded_at first_funding_at  \\\n",
       "32434  operating          USA               3 2013-01-01       1014-03-01   \n",
       "\n",
       "      last_funding_at  \n",
       "32434      09/06/2015  "
      ]
     },
     "execution_count": 39,
     "metadata": {},
     "output_type": "execute_result"
    }
   ],
   "source": [
    "companies[companies['first_funding_at'] == '1014-03-01'] # apparently the index was off in the error message"
   ]
  },
  {
   "cell_type": "code",
   "execution_count": 40,
   "id": "86493952-52d4-4a50-ab58-70b992b00e51",
   "metadata": {
    "tags": []
   },
   "outputs": [
    {
     "data": {
      "text/plain": [
       "Name                                Mousera\n",
       "homepage_url         http://www.mousera.com\n",
       "category_list                 Biotechnology\n",
       "funding_total_usd                  29940004\n",
       "status                            operating\n",
       "country_code                            USA\n",
       "funding_rounds                            3\n",
       "founded_at              2013-01-01 00:00:00\n",
       "first_funding_at                 1014-03-01\n",
       "last_funding_at                  09/06/2015\n",
       "Name: 32434, dtype: object"
      ]
     },
     "execution_count": 40,
     "metadata": {},
     "output_type": "execute_result"
    }
   ],
   "source": [
    "companies.loc[32434]"
   ]
  },
  {
   "cell_type": "code",
   "execution_count": 41,
   "id": "4873a2ac-aaf1-428b-8e42-48d890834f9e",
   "metadata": {
    "tags": []
   },
   "outputs": [],
   "source": [
    "# change this to nan as well\n",
    "companies.at[32434, 'first_funding_at'] = np.nan"
   ]
  },
  {
   "cell_type": "code",
   "execution_count": 42,
   "id": "f67c5b65-59d8-445f-8d91-699f7c60ec4b",
   "metadata": {
    "tags": []
   },
   "outputs": [],
   "source": [
    "# and again\n",
    "companies['first_funding_at'] = pd.to_datetime(companies['first_funding_at'], format='mixed')"
   ]
  },
  {
   "cell_type": "code",
   "execution_count": 43,
   "id": "767921be-6a23-446f-8419-9c8317f97ccf",
   "metadata": {
    "tags": []
   },
   "outputs": [
    {
     "name": "stdout",
     "output_type": "stream",
     "text": [
      "<class 'pandas.core.frame.DataFrame'>\n",
      "Index: 57797 entries, 0 to 57797\n",
      "Data columns (total 10 columns):\n",
      " #   Column             Non-Null Count  Dtype         \n",
      "---  ------             --------------  -----         \n",
      " 0   Name               57797 non-null  object        \n",
      " 1   homepage_url       57797 non-null  object        \n",
      " 2   category_list      57797 non-null  object        \n",
      " 3   funding_total_usd  57797 non-null  object        \n",
      " 4   status             57797 non-null  object        \n",
      " 5   country_code       57797 non-null  object        \n",
      " 6   funding_rounds     57797 non-null  int64         \n",
      " 7   founded_at         46522 non-null  datetime64[ns]\n",
      " 8   first_funding_at   57772 non-null  datetime64[ns]\n",
      " 9   last_funding_at    57797 non-null  object        \n",
      "dtypes: datetime64[ns](2), int64(1), object(7)\n",
      "memory usage: 6.9+ MB\n"
     ]
    }
   ],
   "source": [
    "companies.info() # finally"
   ]
  },
  {
   "cell_type": "code",
   "execution_count": 44,
   "id": "d7f45a63-3b61-4062-9f68-9fc2e59e3338",
   "metadata": {
    "tags": []
   },
   "outputs": [],
   "source": [
    "# for last_funding_at now\n",
    "companies['last_funding_at'] = pd.to_datetime(companies['last_funding_at'], format='mixed')"
   ]
  },
  {
   "cell_type": "code",
   "execution_count": 45,
   "id": "fbb9a79a-7207-4c94-a54b-b3663315bdac",
   "metadata": {
    "tags": []
   },
   "outputs": [
    {
     "name": "stdout",
     "output_type": "stream",
     "text": [
      "<class 'pandas.core.frame.DataFrame'>\n",
      "Index: 57797 entries, 0 to 57797\n",
      "Data columns (total 10 columns):\n",
      " #   Column             Non-Null Count  Dtype         \n",
      "---  ------             --------------  -----         \n",
      " 0   Name               57797 non-null  object        \n",
      " 1   homepage_url       57797 non-null  object        \n",
      " 2   category_list      57797 non-null  object        \n",
      " 3   funding_total_usd  57797 non-null  object        \n",
      " 4   status             57797 non-null  object        \n",
      " 5   country_code       57797 non-null  object        \n",
      " 6   funding_rounds     57797 non-null  int64         \n",
      " 7   founded_at         46522 non-null  datetime64[ns]\n",
      " 8   first_funding_at   57772 non-null  datetime64[ns]\n",
      " 9   last_funding_at    57797 non-null  datetime64[ns]\n",
      "dtypes: datetime64[ns](3), int64(1), object(6)\n",
      "memory usage: 6.9+ MB\n"
     ]
    }
   ],
   "source": [
    "companies.info()"
   ]
  },
  {
   "cell_type": "code",
   "execution_count": 46,
   "id": "282426cd-837e-4eaf-bb13-73e03702954d",
   "metadata": {
    "tags": []
   },
   "outputs": [
    {
     "data": {
      "text/html": [
       "<div>\n",
       "<style scoped>\n",
       "    .dataframe tbody tr th:only-of-type {\n",
       "        vertical-align: middle;\n",
       "    }\n",
       "\n",
       "    .dataframe tbody tr th {\n",
       "        vertical-align: top;\n",
       "    }\n",
       "\n",
       "    .dataframe thead th {\n",
       "        text-align: right;\n",
       "    }\n",
       "</style>\n",
       "<table border=\"1\" class=\"dataframe\">\n",
       "  <thead>\n",
       "    <tr style=\"text-align: right;\">\n",
       "      <th></th>\n",
       "      <th>Name</th>\n",
       "      <th>homepage_url</th>\n",
       "      <th>category_list</th>\n",
       "      <th>funding_total_usd</th>\n",
       "      <th>status</th>\n",
       "      <th>country_code</th>\n",
       "      <th>funding_rounds</th>\n",
       "      <th>founded_at</th>\n",
       "      <th>first_funding_at</th>\n",
       "      <th>last_funding_at</th>\n",
       "    </tr>\n",
       "  </thead>\n",
       "  <tbody>\n",
       "    <tr>\n",
       "      <th>0</th>\n",
       "      <td>#fame</td>\n",
       "      <td>http://livfame.com</td>\n",
       "      <td>Media</td>\n",
       "      <td>10000000</td>\n",
       "      <td>operating</td>\n",
       "      <td>IND</td>\n",
       "      <td>1</td>\n",
       "      <td>NaT</td>\n",
       "      <td>2015-05-01</td>\n",
       "      <td>2015-05-01</td>\n",
       "    </tr>\n",
       "    <tr>\n",
       "      <th>1</th>\n",
       "      <td>:Qounter</td>\n",
       "      <td>http://www.qounter.com</td>\n",
       "      <td>Application Platforms|Real Time|Social Network...</td>\n",
       "      <td>700000</td>\n",
       "      <td>operating</td>\n",
       "      <td>USA</td>\n",
       "      <td>2</td>\n",
       "      <td>2014-04-09</td>\n",
       "      <td>2014-01-03</td>\n",
       "      <td>2014-10-14</td>\n",
       "    </tr>\n",
       "    <tr>\n",
       "      <th>2</th>\n",
       "      <td>0-6.com</td>\n",
       "      <td>http://www.0-6.com</td>\n",
       "      <td>Curated Web</td>\n",
       "      <td>2000000</td>\n",
       "      <td>operating</td>\n",
       "      <td>CHN</td>\n",
       "      <td>1</td>\n",
       "      <td>2007-01-01</td>\n",
       "      <td>2008-03-19</td>\n",
       "      <td>2008-03-19</td>\n",
       "    </tr>\n",
       "    <tr>\n",
       "      <th>3</th>\n",
       "      <td>004 Technologies</td>\n",
       "      <td>http://004gmbh.de/en/004-interact</td>\n",
       "      <td>Software</td>\n",
       "      <td>-</td>\n",
       "      <td>operating</td>\n",
       "      <td>USA</td>\n",
       "      <td>1</td>\n",
       "      <td>2010-01-01</td>\n",
       "      <td>2014-07-24</td>\n",
       "      <td>2014-07-24</td>\n",
       "    </tr>\n",
       "    <tr>\n",
       "      <th>4</th>\n",
       "      <td>01Games Technology</td>\n",
       "      <td>http://www.01games.hk/</td>\n",
       "      <td>Games</td>\n",
       "      <td>41250</td>\n",
       "      <td>operating</td>\n",
       "      <td>HKG</td>\n",
       "      <td>1</td>\n",
       "      <td>NaT</td>\n",
       "      <td>2014-01-07</td>\n",
       "      <td>2014-01-07</td>\n",
       "    </tr>\n",
       "  </tbody>\n",
       "</table>\n",
       "</div>"
      ],
      "text/plain": [
       "                 Name                       homepage_url  \\\n",
       "0               #fame                 http://livfame.com   \n",
       "1            :Qounter             http://www.qounter.com   \n",
       "2             0-6.com                 http://www.0-6.com   \n",
       "3    004 Technologies  http://004gmbh.de/en/004-interact   \n",
       "4  01Games Technology             http://www.01games.hk/   \n",
       "\n",
       "                                       category_list funding_total_usd  \\\n",
       "0                                              Media          10000000   \n",
       "1  Application Platforms|Real Time|Social Network...            700000   \n",
       "2                                        Curated Web           2000000   \n",
       "3                                           Software                 -   \n",
       "4                                              Games             41250   \n",
       "\n",
       "      status country_code  funding_rounds founded_at first_funding_at  \\\n",
       "0  operating          IND               1        NaT       2015-05-01   \n",
       "1  operating          USA               2 2014-04-09       2014-01-03   \n",
       "2  operating          CHN               1 2007-01-01       2008-03-19   \n",
       "3  operating          USA               1 2010-01-01       2014-07-24   \n",
       "4  operating          HKG               1        NaT       2014-01-07   \n",
       "\n",
       "  last_funding_at  \n",
       "0      2015-05-01  \n",
       "1      2014-10-14  \n",
       "2      2008-03-19  \n",
       "3      2014-07-24  \n",
       "4      2014-01-07  "
      ]
     },
     "execution_count": 46,
     "metadata": {},
     "output_type": "execute_result"
    }
   ],
   "source": [
    "# now that all date columns are datetime types, I can see if founded_at and first_funding_at are usually similar\n",
    "companies.head()"
   ]
  },
  {
   "cell_type": "code",
   "execution_count": 47,
   "id": "dbe50aad-c62d-45d6-9f7f-03ed4f2c1e41",
   "metadata": {
    "tags": []
   },
   "outputs": [
    {
     "data": {
      "text/plain": [
       "Timedelta('96 days 00:00:00')"
      ]
     },
     "execution_count": 47,
     "metadata": {},
     "output_type": "execute_result"
    }
   ],
   "source": [
    "# testing on index 1\n",
    "companies['founded_at'][1] - companies['first_funding_at'][1]"
   ]
  },
  {
   "cell_type": "code",
   "execution_count": 48,
   "id": "7d8a6aaf-39da-4d44-9617-e3f7d9f93a23",
   "metadata": {
    "tags": []
   },
   "outputs": [],
   "source": [
    "# that works so I'll get the average timedelta for non null values in these columns\n",
    "nonnull = companies[companies['founded_at'].notna() & companies['first_funding_at'].notna()]"
   ]
  },
  {
   "cell_type": "code",
   "execution_count": 49,
   "id": "4b4328ab-25b1-40c5-9984-c73e74ad133f",
   "metadata": {
    "tags": []
   },
   "outputs": [
    {
     "data": {
      "text/plain": [
       "(46501, 10)"
      ]
     },
     "execution_count": 49,
     "metadata": {},
     "output_type": "execute_result"
    }
   ],
   "source": [
    "nonnull.shape"
   ]
  },
  {
   "cell_type": "code",
   "execution_count": 50,
   "id": "826bf09f-434c-438f-8f9c-89a60b8b329d",
   "metadata": {
    "tags": []
   },
   "outputs": [
    {
     "data": {
      "text/plain": [
       "Timedelta('1435 days 13:56:15.953205312')"
      ]
     },
     "execution_count": 50,
     "metadata": {},
     "output_type": "execute_result"
    }
   ],
   "source": [
    "(np.abs(nonnull['founded_at'] - nonnull['first_funding_at'])).mean() # average timedelta is 1435 days or about 4 years"
   ]
  },
  {
   "cell_type": "code",
   "execution_count": 51,
   "id": "9370617b-6bab-42f3-9396-c864d5e478bd",
   "metadata": {
    "tags": []
   },
   "outputs": [
    {
     "data": {
      "text/plain": [
       "1          96 days\n",
       "2        -443 days\n",
       "3       -1665 days\n",
       "5       -4695 days\n",
       "6        -790 days\n",
       "           ...    \n",
       "57790   -5113 days\n",
       "57793   -2220 days\n",
       "57794     -55 days\n",
       "57796     488 days\n",
       "57797    -365 days\n",
       "Length: 46501, dtype: timedelta64[ns]"
      ]
     },
     "execution_count": 51,
     "metadata": {},
     "output_type": "execute_result"
    }
   ],
   "source": [
    "# it doesn't seem like I can accurately impute founded_at from first_funding_at directly, but I can offset by the averge timedelta amount\n",
    "# I first need to see which direction the time delta tends to go in \n",
    "differences = nonnull['founded_at'] - nonnull['first_funding_at']\n",
    "differences"
   ]
  },
  {
   "cell_type": "code",
   "execution_count": 52,
   "id": "7d1fd803-204b-4b1a-9346-42b2dceb916c",
   "metadata": {
    "tags": []
   },
   "outputs": [
    {
     "data": {
      "text/plain": [
       "0          96 days\n",
       "1        -443 days\n",
       "2       -1665 days\n",
       "3       -4695 days\n",
       "4        -790 days\n",
       "           ...    \n",
       "46496   -5113 days\n",
       "46497   -2220 days\n",
       "46498     -55 days\n",
       "46499     488 days\n",
       "46500    -365 days\n",
       "Length: 46501, dtype: timedelta64[ns]"
      ]
     },
     "execution_count": 52,
     "metadata": {},
     "output_type": "execute_result"
    }
   ],
   "source": [
    "differences = differences.reset_index(drop=True)\n",
    "differences"
   ]
  },
  {
   "cell_type": "code",
   "execution_count": 53,
   "id": "3b5a060d-6ff3-4222-a284-f9ddb0df64e1",
   "metadata": {
    "tags": []
   },
   "outputs": [
    {
     "data": {
      "text/plain": [
       "Timedelta('0 days 00:00:00')"
      ]
     },
     "execution_count": 53,
     "metadata": {},
     "output_type": "execute_result"
    }
   ],
   "source": [
    "zero_delta = pd.to_timedelta(0)\n",
    "zero_delta"
   ]
  },
  {
   "cell_type": "code",
   "execution_count": 54,
   "id": "1e7c4519-c628-4108-a24d-ea8f292758a8",
   "metadata": {
    "tags": []
   },
   "outputs": [
    {
     "data": {
      "text/plain": [
       "True"
      ]
     },
     "execution_count": 54,
     "metadata": {},
     "output_type": "execute_result"
    }
   ],
   "source": [
    "differences[0] > zero_delta"
   ]
  },
  {
   "cell_type": "code",
   "execution_count": 55,
   "id": "c5d0a821-610f-459c-9076-e2e42115f483",
   "metadata": {
    "tags": []
   },
   "outputs": [
    {
     "data": {
      "text/plain": [
       "False"
      ]
     },
     "execution_count": 55,
     "metadata": {},
     "output_type": "execute_result"
    }
   ],
   "source": [
    "differences[1] > zero_delta"
   ]
  },
  {
   "cell_type": "code",
   "execution_count": 56,
   "id": "b8dd6223-2dfb-441c-908a-12e440953e9b",
   "metadata": {
    "tags": []
   },
   "outputs": [
    {
     "data": {
      "text/plain": [
       "0         True\n",
       "1        False\n",
       "2        False\n",
       "3        False\n",
       "4        False\n",
       "         ...  \n",
       "46496    False\n",
       "46497    False\n",
       "46498    False\n",
       "46499     True\n",
       "46500    False\n",
       "Length: 46501, dtype: bool"
      ]
     },
     "execution_count": 56,
     "metadata": {},
     "output_type": "execute_result"
    }
   ],
   "source": [
    "differences > zero_delta"
   ]
  },
  {
   "cell_type": "code",
   "execution_count": 57,
   "id": "0bb4e2bd-058e-438a-8343-f41bcdcab34a",
   "metadata": {
    "tags": []
   },
   "outputs": [
    {
     "data": {
      "text/plain": [
       "2578"
      ]
     },
     "execution_count": 57,
     "metadata": {},
     "output_type": "execute_result"
    }
   ],
   "source": [
    "(differences == zero_delta).sum() # 2578 rows have the same dates for founded_at and first_funding_at"
   ]
  },
  {
   "cell_type": "code",
   "execution_count": 60,
   "id": "e1c03270-e882-447f-90e9-2f28d1b34d13",
   "metadata": {
    "tags": []
   },
   "outputs": [
    {
     "data": {
      "text/plain": [
       "3908"
      ]
     },
     "execution_count": 60,
     "metadata": {},
     "output_type": "execute_result"
    }
   ],
   "source": [
    "(differences > zero_delta).sum() # 3908 rows have a later founded_at date than first_funding_at date (this seems weird - maybe I should change these)"
   ]
  },
  {
   "cell_type": "code",
   "execution_count": 61,
   "id": "9035d950-48bb-468a-83d5-30649afc2b75",
   "metadata": {
    "tags": []
   },
   "outputs": [
    {
     "data": {
      "text/plain": [
       "40015"
      ]
     },
     "execution_count": 61,
     "metadata": {},
     "output_type": "execute_result"
    }
   ],
   "source": [
    "(differences < zero_delta).sum() # 40015 rows have an earlier founded_at date than first_funding_at date"
   ]
  },
  {
   "cell_type": "code",
   "execution_count": 62,
   "id": "af88eec4-8bd5-4e39-be5d-16b63eba60d7",
   "metadata": {
    "tags": []
   },
   "outputs": [
    {
     "data": {
      "text/plain": [
       "Timedelta('1639 days 08:55:39.547669648')"
      ]
     },
     "execution_count": 62,
     "metadata": {},
     "output_type": "execute_result"
    }
   ],
   "source": [
    "# finding the average difference in time for rows where there's an earlier founded_at date than first_funding_at date\n",
    "timedelta = (np.abs(differences[differences < zero_delta])).mean()\n",
    "timedelta"
   ]
  },
  {
   "cell_type": "code",
   "execution_count": 63,
   "id": "5b289a05-f5d3-4155-a339-a6c84935fbc7",
   "metadata": {
    "tags": []
   },
   "outputs": [
    {
     "data": {
      "text/plain": [
       "Name                     0\n",
       "homepage_url             0\n",
       "category_list            0\n",
       "funding_total_usd        0\n",
       "status                   0\n",
       "country_code             0\n",
       "funding_rounds           0\n",
       "founded_at           11275\n",
       "first_funding_at        25\n",
       "last_funding_at          0\n",
       "dtype: int64"
      ]
     },
     "execution_count": 63,
     "metadata": {},
     "output_type": "execute_result"
    }
   ],
   "source": [
    "# so I'll make the null founded_at values equal to the first_funding_at date - timedelta\n",
    "# first I need to get rid of the rows where both founded_at and first_funding_at are missing\n",
    "companies.isna().sum()"
   ]
  },
  {
   "cell_type": "code",
   "execution_count": 64,
   "id": "42da9ea9-15e1-4858-a657-05ac37d25d2e",
   "metadata": {
    "tags": []
   },
   "outputs": [
    {
     "data": {
      "text/plain": [
       "(57797, 10)"
      ]
     },
     "execution_count": 64,
     "metadata": {},
     "output_type": "execute_result"
    }
   ],
   "source": [
    "companies.shape"
   ]
  },
  {
   "cell_type": "code",
   "execution_count": 66,
   "id": "4fcf60a2-c579-4190-a6b5-7cd8edec2887",
   "metadata": {
    "tags": []
   },
   "outputs": [
    {
     "data": {
      "text/html": [
       "<div>\n",
       "<style scoped>\n",
       "    .dataframe tbody tr th:only-of-type {\n",
       "        vertical-align: middle;\n",
       "    }\n",
       "\n",
       "    .dataframe tbody tr th {\n",
       "        vertical-align: top;\n",
       "    }\n",
       "\n",
       "    .dataframe thead th {\n",
       "        text-align: right;\n",
       "    }\n",
       "</style>\n",
       "<table border=\"1\" class=\"dataframe\">\n",
       "  <thead>\n",
       "    <tr style=\"text-align: right;\">\n",
       "      <th></th>\n",
       "      <th>Name</th>\n",
       "      <th>homepage_url</th>\n",
       "      <th>category_list</th>\n",
       "      <th>funding_total_usd</th>\n",
       "      <th>status</th>\n",
       "      <th>country_code</th>\n",
       "      <th>funding_rounds</th>\n",
       "      <th>founded_at</th>\n",
       "      <th>first_funding_at</th>\n",
       "      <th>last_funding_at</th>\n",
       "    </tr>\n",
       "  </thead>\n",
       "  <tbody>\n",
       "    <tr>\n",
       "      <th>0</th>\n",
       "      <td>#fame</td>\n",
       "      <td>http://livfame.com</td>\n",
       "      <td>Media</td>\n",
       "      <td>10000000</td>\n",
       "      <td>operating</td>\n",
       "      <td>IND</td>\n",
       "      <td>1</td>\n",
       "      <td>NaT</td>\n",
       "      <td>2015-05-01</td>\n",
       "      <td>2015-05-01</td>\n",
       "    </tr>\n",
       "    <tr>\n",
       "      <th>1</th>\n",
       "      <td>:Qounter</td>\n",
       "      <td>http://www.qounter.com</td>\n",
       "      <td>Application Platforms|Real Time|Social Network...</td>\n",
       "      <td>700000</td>\n",
       "      <td>operating</td>\n",
       "      <td>USA</td>\n",
       "      <td>2</td>\n",
       "      <td>2014-04-09</td>\n",
       "      <td>2014-01-03</td>\n",
       "      <td>2014-10-14</td>\n",
       "    </tr>\n",
       "    <tr>\n",
       "      <th>2</th>\n",
       "      <td>0-6.com</td>\n",
       "      <td>http://www.0-6.com</td>\n",
       "      <td>Curated Web</td>\n",
       "      <td>2000000</td>\n",
       "      <td>operating</td>\n",
       "      <td>CHN</td>\n",
       "      <td>1</td>\n",
       "      <td>2007-01-01</td>\n",
       "      <td>2008-03-19</td>\n",
       "      <td>2008-03-19</td>\n",
       "    </tr>\n",
       "    <tr>\n",
       "      <th>3</th>\n",
       "      <td>004 Technologies</td>\n",
       "      <td>http://004gmbh.de/en/004-interact</td>\n",
       "      <td>Software</td>\n",
       "      <td>-</td>\n",
       "      <td>operating</td>\n",
       "      <td>USA</td>\n",
       "      <td>1</td>\n",
       "      <td>2010-01-01</td>\n",
       "      <td>2014-07-24</td>\n",
       "      <td>2014-07-24</td>\n",
       "    </tr>\n",
       "    <tr>\n",
       "      <th>4</th>\n",
       "      <td>01Games Technology</td>\n",
       "      <td>http://www.01games.hk/</td>\n",
       "      <td>Games</td>\n",
       "      <td>41250</td>\n",
       "      <td>operating</td>\n",
       "      <td>HKG</td>\n",
       "      <td>1</td>\n",
       "      <td>NaT</td>\n",
       "      <td>2014-01-07</td>\n",
       "      <td>2014-01-07</td>\n",
       "    </tr>\n",
       "    <tr>\n",
       "      <th>...</th>\n",
       "      <td>...</td>\n",
       "      <td>...</td>\n",
       "      <td>...</td>\n",
       "      <td>...</td>\n",
       "      <td>...</td>\n",
       "      <td>...</td>\n",
       "      <td>...</td>\n",
       "      <td>...</td>\n",
       "      <td>...</td>\n",
       "      <td>...</td>\n",
       "    </tr>\n",
       "    <tr>\n",
       "      <th>57793</th>\n",
       "      <td>Zytoprotec</td>\n",
       "      <td>http://www.zytoprotec.com</td>\n",
       "      <td>Biotechnology</td>\n",
       "      <td>2686600</td>\n",
       "      <td>operating</td>\n",
       "      <td>AUT</td>\n",
       "      <td>1</td>\n",
       "      <td>2007-01-01</td>\n",
       "      <td>2013-01-29</td>\n",
       "      <td>2013-01-29</td>\n",
       "    </tr>\n",
       "    <tr>\n",
       "      <th>57794</th>\n",
       "      <td>Zzish</td>\n",
       "      <td>http://www.zzish.com</td>\n",
       "      <td>Analytics|Android|Developer APIs|Education|Gam...</td>\n",
       "      <td>1120000</td>\n",
       "      <td>operating</td>\n",
       "      <td>GBR</td>\n",
       "      <td>3</td>\n",
       "      <td>2014-01-28</td>\n",
       "      <td>2014-03-24</td>\n",
       "      <td>2015-02-25</td>\n",
       "    </tr>\n",
       "    <tr>\n",
       "      <th>57795</th>\n",
       "      <td>ZZNode Science and Technology</td>\n",
       "      <td>http://www.zznode.com</td>\n",
       "      <td>Enterprise Software</td>\n",
       "      <td>1587301</td>\n",
       "      <td>operating</td>\n",
       "      <td>CHN</td>\n",
       "      <td>1</td>\n",
       "      <td>NaT</td>\n",
       "      <td>2012-01-04</td>\n",
       "      <td>2012-01-04</td>\n",
       "    </tr>\n",
       "    <tr>\n",
       "      <th>57796</th>\n",
       "      <td>Zzzzapp Wireless ltd.</td>\n",
       "      <td>http://www.zzzzapp.com</td>\n",
       "      <td>Advertising|Mobile|Web Development|Wireless</td>\n",
       "      <td>114304</td>\n",
       "      <td>operating</td>\n",
       "      <td>HRV</td>\n",
       "      <td>4</td>\n",
       "      <td>2012-05-13</td>\n",
       "      <td>2011-01-11</td>\n",
       "      <td>2014-01-03</td>\n",
       "    </tr>\n",
       "    <tr>\n",
       "      <th>57797</th>\n",
       "      <td>Ôasys</td>\n",
       "      <td>http://www.oasys.io/</td>\n",
       "      <td>Consumer Electronics|Internet of Things|Teleco...</td>\n",
       "      <td>18192</td>\n",
       "      <td>operating</td>\n",
       "      <td>USA</td>\n",
       "      <td>1</td>\n",
       "      <td>2014-01-01</td>\n",
       "      <td>2015-01-01</td>\n",
       "      <td>2015-01-01</td>\n",
       "    </tr>\n",
       "  </tbody>\n",
       "</table>\n",
       "<p>57793 rows × 10 columns</p>\n",
       "</div>"
      ],
      "text/plain": [
       "                                Name                       homepage_url  \\\n",
       "0                              #fame                 http://livfame.com   \n",
       "1                           :Qounter             http://www.qounter.com   \n",
       "2                            0-6.com                 http://www.0-6.com   \n",
       "3                   004 Technologies  http://004gmbh.de/en/004-interact   \n",
       "4                 01Games Technology             http://www.01games.hk/   \n",
       "...                              ...                                ...   \n",
       "57793                     Zytoprotec          http://www.zytoprotec.com   \n",
       "57794                          Zzish               http://www.zzish.com   \n",
       "57795  ZZNode Science and Technology              http://www.zznode.com   \n",
       "57796          Zzzzapp Wireless ltd.             http://www.zzzzapp.com   \n",
       "57797                          Ôasys               http://www.oasys.io/   \n",
       "\n",
       "                                           category_list funding_total_usd  \\\n",
       "0                                                  Media          10000000   \n",
       "1      Application Platforms|Real Time|Social Network...            700000   \n",
       "2                                            Curated Web           2000000   \n",
       "3                                               Software                 -   \n",
       "4                                                  Games             41250   \n",
       "...                                                  ...               ...   \n",
       "57793                                      Biotechnology           2686600   \n",
       "57794  Analytics|Android|Developer APIs|Education|Gam...           1120000   \n",
       "57795                                Enterprise Software           1587301   \n",
       "57796        Advertising|Mobile|Web Development|Wireless            114304   \n",
       "57797  Consumer Electronics|Internet of Things|Teleco...             18192   \n",
       "\n",
       "          status country_code  funding_rounds founded_at first_funding_at  \\\n",
       "0      operating          IND               1        NaT       2015-05-01   \n",
       "1      operating          USA               2 2014-04-09       2014-01-03   \n",
       "2      operating          CHN               1 2007-01-01       2008-03-19   \n",
       "3      operating          USA               1 2010-01-01       2014-07-24   \n",
       "4      operating          HKG               1        NaT       2014-01-07   \n",
       "...          ...          ...             ...        ...              ...   \n",
       "57793  operating          AUT               1 2007-01-01       2013-01-29   \n",
       "57794  operating          GBR               3 2014-01-28       2014-03-24   \n",
       "57795  operating          CHN               1        NaT       2012-01-04   \n",
       "57796  operating          HRV               4 2012-05-13       2011-01-11   \n",
       "57797  operating          USA               1 2014-01-01       2015-01-01   \n",
       "\n",
       "      last_funding_at  \n",
       "0          2015-05-01  \n",
       "1          2014-10-14  \n",
       "2          2008-03-19  \n",
       "3          2014-07-24  \n",
       "4          2014-01-07  \n",
       "...               ...  \n",
       "57793      2013-01-29  \n",
       "57794      2015-02-25  \n",
       "57795      2012-01-04  \n",
       "57796      2014-01-03  \n",
       "57797      2015-01-01  \n",
       "\n",
       "[57793 rows x 10 columns]"
      ]
     },
     "execution_count": 66,
     "metadata": {},
     "output_type": "execute_result"
    }
   ],
   "source": [
    "companies.dropna(subset=['founded_at', 'first_funding_at'], how='all') # we'd only lose four rows"
   ]
  },
  {
   "cell_type": "code",
   "execution_count": 67,
   "id": "d29ea3ff-5332-46d8-93f5-51060eb6142f",
   "metadata": {
    "tags": []
   },
   "outputs": [],
   "source": [
    "companies.dropna(subset=['founded_at', 'first_funding_at'], how='all', inplace=True)"
   ]
  },
  {
   "cell_type": "code",
   "execution_count": 68,
   "id": "4de6bda2-54f0-4604-a2d7-6b669bcf73c0",
   "metadata": {
    "tags": []
   },
   "outputs": [
    {
     "data": {
      "text/plain": [
       "(57793, 10)"
      ]
     },
     "execution_count": 68,
     "metadata": {},
     "output_type": "execute_result"
    }
   ],
   "source": [
    "companies.shape # those four rows are gone"
   ]
  },
  {
   "cell_type": "code",
   "execution_count": 71,
   "id": "0f942aa8-77f2-4c86-9dbd-4b0fb5583147",
   "metadata": {
    "tags": []
   },
   "outputs": [],
   "source": [
    "# resetting the index again to account for dropped rows\n",
    "companies = companies.reset_index(drop=True)"
   ]
  },
  {
   "cell_type": "code",
   "execution_count": 69,
   "id": "70c918e2-ee99-4d77-b64f-526ce45ba3c5",
   "metadata": {
    "tags": []
   },
   "outputs": [
    {
     "data": {
      "text/plain": [
       "True"
      ]
     },
     "execution_count": 69,
     "metadata": {},
     "output_type": "execute_result"
    }
   ],
   "source": [
    "# testing that this would work \n",
    "type(companies['founded_at'][0]) == pd._libs.tslibs.nattype.NaTType"
   ]
  },
  {
   "cell_type": "code",
   "execution_count": 72,
   "id": "a9ec79c6-b332-4c7d-b764-ee1705a3495f",
   "metadata": {
    "tags": []
   },
   "outputs": [],
   "source": [
    "# imputing the values now\n",
    "for i in range(len(companies['founded_at'])):\n",
    "    if type(companies.at[i, 'founded_at']) == pd._libs.tslibs.nattype.NaTType:\n",
    "        companies.at[i, 'founded_at'] = companies.at[i, 'first_funding_at'] - timedelta"
   ]
  },
  {
   "cell_type": "code",
   "execution_count": 73,
   "id": "2bbba477-b97e-4b57-b2b9-1a1764aaae08",
   "metadata": {
    "tags": []
   },
   "outputs": [
    {
     "data": {
      "text/plain": [
       "Name                  0\n",
       "homepage_url          0\n",
       "category_list         0\n",
       "funding_total_usd     0\n",
       "status                0\n",
       "country_code          0\n",
       "funding_rounds        0\n",
       "founded_at            0\n",
       "first_funding_at     21\n",
       "last_funding_at       0\n",
       "dtype: int64"
      ]
     },
     "execution_count": 73,
     "metadata": {},
     "output_type": "execute_result"
    }
   ],
   "source": [
    "# only the first_funding_at column has any nulls now\n",
    "companies.isna().sum()"
   ]
  },
  {
   "cell_type": "code",
   "execution_count": 74,
   "id": "576b1fff-d317-430c-8745-60ae7b280ee1",
   "metadata": {
    "tags": []
   },
   "outputs": [],
   "source": [
    "companies = companies.reset_index(drop=True)"
   ]
  },
  {
   "cell_type": "code",
   "execution_count": 75,
   "id": "02f382b6-1fe1-4c17-8f98-87ddc82ccd56",
   "metadata": {
    "tags": []
   },
   "outputs": [],
   "source": [
    "# imputing those values from founded_at column by adding in the timedelta\n",
    "for i in range(len(companies['first_funding_at'])):\n",
    "    if type(companies.at[i, 'first_funding_at']) == pd._libs.tslibs.nattype.NaTType:\n",
    "        companies.at[i, 'first_funding_at'] = companies.at[i, 'founded_at'] + timedelta"
   ]
  },
  {
   "cell_type": "code",
   "execution_count": 76,
   "id": "269dd6a6-b666-4ad0-a268-e3a55f699159",
   "metadata": {},
   "outputs": [
    {
     "data": {
      "text/plain": [
       "Name                 0\n",
       "homepage_url         0\n",
       "category_list        0\n",
       "funding_total_usd    0\n",
       "status               0\n",
       "country_code         0\n",
       "funding_rounds       0\n",
       "founded_at           0\n",
       "first_funding_at     0\n",
       "last_funding_at      0\n",
       "dtype: int64"
      ]
     },
     "execution_count": 76,
     "metadata": {},
     "output_type": "execute_result"
    }
   ],
   "source": [
    "companies.isna().sum()"
   ]
  },
  {
   "cell_type": "code",
   "execution_count": 77,
   "id": "a260b92b-1a69-4cda-b240-5adab4141f84",
   "metadata": {
    "tags": []
   },
   "outputs": [
    {
     "data": {
      "text/plain": [
       "0"
      ]
     },
     "execution_count": 77,
     "metadata": {},
     "output_type": "execute_result"
    }
   ],
   "source": [
    "# there are no more nulls to deal with\n",
    "# but there are other issues\n",
    "# first quickly check for duplicates\n",
    "companies.duplicated().sum() # we're good here"
   ]
  },
  {
   "cell_type": "code",
   "execution_count": 78,
   "id": "c35eaa0a-7658-4369-8f40-8f71dcaed8fe",
   "metadata": {
    "tags": []
   },
   "outputs": [
    {
     "data": {
      "text/html": [
       "<div>\n",
       "<style scoped>\n",
       "    .dataframe tbody tr th:only-of-type {\n",
       "        vertical-align: middle;\n",
       "    }\n",
       "\n",
       "    .dataframe tbody tr th {\n",
       "        vertical-align: top;\n",
       "    }\n",
       "\n",
       "    .dataframe thead th {\n",
       "        text-align: right;\n",
       "    }\n",
       "</style>\n",
       "<table border=\"1\" class=\"dataframe\">\n",
       "  <thead>\n",
       "    <tr style=\"text-align: right;\">\n",
       "      <th></th>\n",
       "      <th>Name</th>\n",
       "      <th>homepage_url</th>\n",
       "      <th>category_list</th>\n",
       "      <th>funding_total_usd</th>\n",
       "      <th>status</th>\n",
       "      <th>country_code</th>\n",
       "      <th>funding_rounds</th>\n",
       "      <th>founded_at</th>\n",
       "      <th>first_funding_at</th>\n",
       "      <th>last_funding_at</th>\n",
       "    </tr>\n",
       "  </thead>\n",
       "  <tbody>\n",
       "    <tr>\n",
       "      <th>0</th>\n",
       "      <td>#fame</td>\n",
       "      <td>http://livfame.com</td>\n",
       "      <td>Media</td>\n",
       "      <td>10000000</td>\n",
       "      <td>operating</td>\n",
       "      <td>IND</td>\n",
       "      <td>1</td>\n",
       "      <td>2010-11-03 15:04:20.452330352</td>\n",
       "      <td>2015-05-01</td>\n",
       "      <td>2015-05-01</td>\n",
       "    </tr>\n",
       "    <tr>\n",
       "      <th>1</th>\n",
       "      <td>:Qounter</td>\n",
       "      <td>http://www.qounter.com</td>\n",
       "      <td>Application Platforms|Real Time|Social Network...</td>\n",
       "      <td>700000</td>\n",
       "      <td>operating</td>\n",
       "      <td>USA</td>\n",
       "      <td>2</td>\n",
       "      <td>2014-04-09 00:00:00.000000000</td>\n",
       "      <td>2014-01-03</td>\n",
       "      <td>2014-10-14</td>\n",
       "    </tr>\n",
       "    <tr>\n",
       "      <th>2</th>\n",
       "      <td>0-6.com</td>\n",
       "      <td>http://www.0-6.com</td>\n",
       "      <td>Curated Web</td>\n",
       "      <td>2000000</td>\n",
       "      <td>operating</td>\n",
       "      <td>CHN</td>\n",
       "      <td>1</td>\n",
       "      <td>2007-01-01 00:00:00.000000000</td>\n",
       "      <td>2008-03-19</td>\n",
       "      <td>2008-03-19</td>\n",
       "    </tr>\n",
       "    <tr>\n",
       "      <th>3</th>\n",
       "      <td>004 Technologies</td>\n",
       "      <td>http://004gmbh.de/en/004-interact</td>\n",
       "      <td>Software</td>\n",
       "      <td>-</td>\n",
       "      <td>operating</td>\n",
       "      <td>USA</td>\n",
       "      <td>1</td>\n",
       "      <td>2010-01-01 00:00:00.000000000</td>\n",
       "      <td>2014-07-24</td>\n",
       "      <td>2014-07-24</td>\n",
       "    </tr>\n",
       "    <tr>\n",
       "      <th>4</th>\n",
       "      <td>01Games Technology</td>\n",
       "      <td>http://www.01games.hk/</td>\n",
       "      <td>Games</td>\n",
       "      <td>41250</td>\n",
       "      <td>operating</td>\n",
       "      <td>HKG</td>\n",
       "      <td>1</td>\n",
       "      <td>2009-07-12 15:04:20.452330352</td>\n",
       "      <td>2014-01-07</td>\n",
       "      <td>2014-01-07</td>\n",
       "    </tr>\n",
       "  </tbody>\n",
       "</table>\n",
       "</div>"
      ],
      "text/plain": [
       "                 Name                       homepage_url  \\\n",
       "0               #fame                 http://livfame.com   \n",
       "1            :Qounter             http://www.qounter.com   \n",
       "2             0-6.com                 http://www.0-6.com   \n",
       "3    004 Technologies  http://004gmbh.de/en/004-interact   \n",
       "4  01Games Technology             http://www.01games.hk/   \n",
       "\n",
       "                                       category_list funding_total_usd  \\\n",
       "0                                              Media          10000000   \n",
       "1  Application Platforms|Real Time|Social Network...            700000   \n",
       "2                                        Curated Web           2000000   \n",
       "3                                           Software                 -   \n",
       "4                                              Games             41250   \n",
       "\n",
       "      status country_code  funding_rounds                    founded_at  \\\n",
       "0  operating          IND               1 2010-11-03 15:04:20.452330352   \n",
       "1  operating          USA               2 2014-04-09 00:00:00.000000000   \n",
       "2  operating          CHN               1 2007-01-01 00:00:00.000000000   \n",
       "3  operating          USA               1 2010-01-01 00:00:00.000000000   \n",
       "4  operating          HKG               1 2009-07-12 15:04:20.452330352   \n",
       "\n",
       "  first_funding_at last_funding_at  \n",
       "0       2015-05-01      2015-05-01  \n",
       "1       2014-01-03      2014-10-14  \n",
       "2       2008-03-19      2008-03-19  \n",
       "3       2014-07-24      2014-07-24  \n",
       "4       2014-01-07      2014-01-07  "
      ]
     },
     "execution_count": 78,
     "metadata": {},
     "output_type": "execute_result"
    }
   ],
   "source": [
    "# I can see that there's a row with a '-' in the funding_total_usd column\n",
    "companies.head() "
   ]
  },
  {
   "cell_type": "code",
   "execution_count": 79,
   "id": "80e57ae9-4214-4372-9651-dffcb44681f7",
   "metadata": {
    "tags": []
   },
   "outputs": [
    {
     "name": "stdout",
     "output_type": "stream",
     "text": [
      "<class 'pandas.core.frame.DataFrame'>\n",
      "RangeIndex: 57793 entries, 0 to 57792\n",
      "Data columns (total 10 columns):\n",
      " #   Column             Non-Null Count  Dtype         \n",
      "---  ------             --------------  -----         \n",
      " 0   Name               57793 non-null  object        \n",
      " 1   homepage_url       57793 non-null  object        \n",
      " 2   category_list      57793 non-null  object        \n",
      " 3   funding_total_usd  57793 non-null  object        \n",
      " 4   status             57793 non-null  object        \n",
      " 5   country_code       57793 non-null  object        \n",
      " 6   funding_rounds     57793 non-null  int64         \n",
      " 7   founded_at         57793 non-null  datetime64[ns]\n",
      " 8   first_funding_at   57793 non-null  datetime64[ns]\n",
      " 9   last_funding_at    57793 non-null  datetime64[ns]\n",
      "dtypes: datetime64[ns](3), int64(1), object(6)\n",
      "memory usage: 4.4+ MB\n"
     ]
    }
   ],
   "source": [
    "# and the row is of type object not int64\n",
    "companies.info()"
   ]
  },
  {
   "cell_type": "code",
   "execution_count": 80,
   "id": "2e5ca98a-5911-409d-95f0-5aea55d3d876",
   "metadata": {
    "tags": []
   },
   "outputs": [
    {
     "data": {
      "text/plain": [
       "(9360, 10)"
      ]
     },
     "execution_count": 80,
     "metadata": {},
     "output_type": "execute_result"
    }
   ],
   "source": [
    "# how many rows are there with a '-'\n",
    "companies[companies['funding_total_usd'] == '-'].shape # there are 9360 rows with a '-'"
   ]
  },
  {
   "cell_type": "code",
   "execution_count": 83,
   "id": "2240e47f-7beb-4a97-bc73-5ee8f85f54aa",
   "metadata": {
    "tags": []
   },
   "outputs": [],
   "source": [
    "# this is a lot of rows to drop, but I will for now since it doesn't make sense to impute values for a target column\n",
    "# first get the indeces for the rows I want to drop\n",
    "dash_index = companies[companies['funding_total_usd'] == '-'].index"
   ]
  },
  {
   "cell_type": "code",
   "execution_count": 84,
   "id": "eb26984a-84d5-4f93-bfdc-03a64737c382",
   "metadata": {},
   "outputs": [
    {
     "data": {
      "text/html": [
       "<div>\n",
       "<style scoped>\n",
       "    .dataframe tbody tr th:only-of-type {\n",
       "        vertical-align: middle;\n",
       "    }\n",
       "\n",
       "    .dataframe tbody tr th {\n",
       "        vertical-align: top;\n",
       "    }\n",
       "\n",
       "    .dataframe thead th {\n",
       "        text-align: right;\n",
       "    }\n",
       "</style>\n",
       "<table border=\"1\" class=\"dataframe\">\n",
       "  <thead>\n",
       "    <tr style=\"text-align: right;\">\n",
       "      <th></th>\n",
       "      <th>Name</th>\n",
       "      <th>homepage_url</th>\n",
       "      <th>category_list</th>\n",
       "      <th>funding_total_usd</th>\n",
       "      <th>status</th>\n",
       "      <th>country_code</th>\n",
       "      <th>funding_rounds</th>\n",
       "      <th>founded_at</th>\n",
       "      <th>first_funding_at</th>\n",
       "      <th>last_funding_at</th>\n",
       "    </tr>\n",
       "  </thead>\n",
       "  <tbody>\n",
       "    <tr>\n",
       "      <th>0</th>\n",
       "      <td>#fame</td>\n",
       "      <td>http://livfame.com</td>\n",
       "      <td>Media</td>\n",
       "      <td>10000000</td>\n",
       "      <td>operating</td>\n",
       "      <td>IND</td>\n",
       "      <td>1</td>\n",
       "      <td>2010-11-03 15:04:20.452330352</td>\n",
       "      <td>2015-05-01</td>\n",
       "      <td>2015-05-01</td>\n",
       "    </tr>\n",
       "    <tr>\n",
       "      <th>1</th>\n",
       "      <td>:Qounter</td>\n",
       "      <td>http://www.qounter.com</td>\n",
       "      <td>Application Platforms|Real Time|Social Network...</td>\n",
       "      <td>700000</td>\n",
       "      <td>operating</td>\n",
       "      <td>USA</td>\n",
       "      <td>2</td>\n",
       "      <td>2014-04-09 00:00:00.000000000</td>\n",
       "      <td>2014-01-03</td>\n",
       "      <td>2014-10-14</td>\n",
       "    </tr>\n",
       "    <tr>\n",
       "      <th>2</th>\n",
       "      <td>0-6.com</td>\n",
       "      <td>http://www.0-6.com</td>\n",
       "      <td>Curated Web</td>\n",
       "      <td>2000000</td>\n",
       "      <td>operating</td>\n",
       "      <td>CHN</td>\n",
       "      <td>1</td>\n",
       "      <td>2007-01-01 00:00:00.000000000</td>\n",
       "      <td>2008-03-19</td>\n",
       "      <td>2008-03-19</td>\n",
       "    </tr>\n",
       "    <tr>\n",
       "      <th>4</th>\n",
       "      <td>01Games Technology</td>\n",
       "      <td>http://www.01games.hk/</td>\n",
       "      <td>Games</td>\n",
       "      <td>41250</td>\n",
       "      <td>operating</td>\n",
       "      <td>HKG</td>\n",
       "      <td>1</td>\n",
       "      <td>2009-07-12 15:04:20.452330352</td>\n",
       "      <td>2014-01-07</td>\n",
       "      <td>2014-01-07</td>\n",
       "    </tr>\n",
       "    <tr>\n",
       "      <th>5</th>\n",
       "      <td>Ondine Biomedical Inc.</td>\n",
       "      <td>http://ondinebio.com</td>\n",
       "      <td>Biotechnology</td>\n",
       "      <td>762851</td>\n",
       "      <td>operating</td>\n",
       "      <td>CAN</td>\n",
       "      <td>2</td>\n",
       "      <td>1997-01-01 00:00:00.000000000</td>\n",
       "      <td>2009-11-09</td>\n",
       "      <td>2009-12-21</td>\n",
       "    </tr>\n",
       "    <tr>\n",
       "      <th>...</th>\n",
       "      <td>...</td>\n",
       "      <td>...</td>\n",
       "      <td>...</td>\n",
       "      <td>...</td>\n",
       "      <td>...</td>\n",
       "      <td>...</td>\n",
       "      <td>...</td>\n",
       "      <td>...</td>\n",
       "      <td>...</td>\n",
       "      <td>...</td>\n",
       "    </tr>\n",
       "    <tr>\n",
       "      <th>57788</th>\n",
       "      <td>Zytoprotec</td>\n",
       "      <td>http://www.zytoprotec.com</td>\n",
       "      <td>Biotechnology</td>\n",
       "      <td>2686600</td>\n",
       "      <td>operating</td>\n",
       "      <td>AUT</td>\n",
       "      <td>1</td>\n",
       "      <td>2007-01-01 00:00:00.000000000</td>\n",
       "      <td>2013-01-29</td>\n",
       "      <td>2013-01-29</td>\n",
       "    </tr>\n",
       "    <tr>\n",
       "      <th>57789</th>\n",
       "      <td>Zzish</td>\n",
       "      <td>http://www.zzish.com</td>\n",
       "      <td>Analytics|Android|Developer APIs|Education|Gam...</td>\n",
       "      <td>1120000</td>\n",
       "      <td>operating</td>\n",
       "      <td>GBR</td>\n",
       "      <td>3</td>\n",
       "      <td>2014-01-28 00:00:00.000000000</td>\n",
       "      <td>2014-03-24</td>\n",
       "      <td>2015-02-25</td>\n",
       "    </tr>\n",
       "    <tr>\n",
       "      <th>57790</th>\n",
       "      <td>ZZNode Science and Technology</td>\n",
       "      <td>http://www.zznode.com</td>\n",
       "      <td>Enterprise Software</td>\n",
       "      <td>1587301</td>\n",
       "      <td>operating</td>\n",
       "      <td>CHN</td>\n",
       "      <td>1</td>\n",
       "      <td>2007-07-09 15:04:20.452330352</td>\n",
       "      <td>2012-01-04</td>\n",
       "      <td>2012-01-04</td>\n",
       "    </tr>\n",
       "    <tr>\n",
       "      <th>57791</th>\n",
       "      <td>Zzzzapp Wireless ltd.</td>\n",
       "      <td>http://www.zzzzapp.com</td>\n",
       "      <td>Advertising|Mobile|Web Development|Wireless</td>\n",
       "      <td>114304</td>\n",
       "      <td>operating</td>\n",
       "      <td>HRV</td>\n",
       "      <td>4</td>\n",
       "      <td>2012-05-13 00:00:00.000000000</td>\n",
       "      <td>2011-01-11</td>\n",
       "      <td>2014-01-03</td>\n",
       "    </tr>\n",
       "    <tr>\n",
       "      <th>57792</th>\n",
       "      <td>Ôasys</td>\n",
       "      <td>http://www.oasys.io/</td>\n",
       "      <td>Consumer Electronics|Internet of Things|Teleco...</td>\n",
       "      <td>18192</td>\n",
       "      <td>operating</td>\n",
       "      <td>USA</td>\n",
       "      <td>1</td>\n",
       "      <td>2014-01-01 00:00:00.000000000</td>\n",
       "      <td>2015-01-01</td>\n",
       "      <td>2015-01-01</td>\n",
       "    </tr>\n",
       "  </tbody>\n",
       "</table>\n",
       "<p>48433 rows × 10 columns</p>\n",
       "</div>"
      ],
      "text/plain": [
       "                                Name               homepage_url  \\\n",
       "0                              #fame         http://livfame.com   \n",
       "1                           :Qounter     http://www.qounter.com   \n",
       "2                            0-6.com         http://www.0-6.com   \n",
       "4                 01Games Technology     http://www.01games.hk/   \n",
       "5             Ondine Biomedical Inc.       http://ondinebio.com   \n",
       "...                              ...                        ...   \n",
       "57788                     Zytoprotec  http://www.zytoprotec.com   \n",
       "57789                          Zzish       http://www.zzish.com   \n",
       "57790  ZZNode Science and Technology      http://www.zznode.com   \n",
       "57791          Zzzzapp Wireless ltd.     http://www.zzzzapp.com   \n",
       "57792                          Ôasys       http://www.oasys.io/   \n",
       "\n",
       "                                           category_list funding_total_usd  \\\n",
       "0                                                  Media          10000000   \n",
       "1      Application Platforms|Real Time|Social Network...            700000   \n",
       "2                                            Curated Web           2000000   \n",
       "4                                                  Games             41250   \n",
       "5                                          Biotechnology            762851   \n",
       "...                                                  ...               ...   \n",
       "57788                                      Biotechnology           2686600   \n",
       "57789  Analytics|Android|Developer APIs|Education|Gam...           1120000   \n",
       "57790                                Enterprise Software           1587301   \n",
       "57791        Advertising|Mobile|Web Development|Wireless            114304   \n",
       "57792  Consumer Electronics|Internet of Things|Teleco...             18192   \n",
       "\n",
       "          status country_code  funding_rounds                    founded_at  \\\n",
       "0      operating          IND               1 2010-11-03 15:04:20.452330352   \n",
       "1      operating          USA               2 2014-04-09 00:00:00.000000000   \n",
       "2      operating          CHN               1 2007-01-01 00:00:00.000000000   \n",
       "4      operating          HKG               1 2009-07-12 15:04:20.452330352   \n",
       "5      operating          CAN               2 1997-01-01 00:00:00.000000000   \n",
       "...          ...          ...             ...                           ...   \n",
       "57788  operating          AUT               1 2007-01-01 00:00:00.000000000   \n",
       "57789  operating          GBR               3 2014-01-28 00:00:00.000000000   \n",
       "57790  operating          CHN               1 2007-07-09 15:04:20.452330352   \n",
       "57791  operating          HRV               4 2012-05-13 00:00:00.000000000   \n",
       "57792  operating          USA               1 2014-01-01 00:00:00.000000000   \n",
       "\n",
       "      first_funding_at last_funding_at  \n",
       "0           2015-05-01      2015-05-01  \n",
       "1           2014-01-03      2014-10-14  \n",
       "2           2008-03-19      2008-03-19  \n",
       "4           2014-01-07      2014-01-07  \n",
       "5           2009-11-09      2009-12-21  \n",
       "...                ...             ...  \n",
       "57788       2013-01-29      2013-01-29  \n",
       "57789       2014-03-24      2015-02-25  \n",
       "57790       2012-01-04      2012-01-04  \n",
       "57791       2011-01-11      2014-01-03  \n",
       "57792       2015-01-01      2015-01-01  \n",
       "\n",
       "[48433 rows x 10 columns]"
      ]
     },
     "execution_count": 84,
     "metadata": {},
     "output_type": "execute_result"
    }
   ],
   "source": [
    "companies.drop(labels=dash_index)"
   ]
  },
  {
   "cell_type": "code",
   "execution_count": 86,
   "id": "a2ee524a-4a66-4444-9658-801b22a90154",
   "metadata": {
    "tags": []
   },
   "outputs": [],
   "source": [
    "# this looks right, 9360 columns have been dropped, so I'll set inplace equal to True\n",
    "companies.drop(labels=dash_index, inplace=True)"
   ]
  },
  {
   "cell_type": "code",
   "execution_count": 87,
   "id": "e6209c02-8814-47b4-8eaf-35352f0cdd5a",
   "metadata": {
    "tags": []
   },
   "outputs": [
    {
     "data": {
      "text/html": [
       "<div>\n",
       "<style scoped>\n",
       "    .dataframe tbody tr th:only-of-type {\n",
       "        vertical-align: middle;\n",
       "    }\n",
       "\n",
       "    .dataframe tbody tr th {\n",
       "        vertical-align: top;\n",
       "    }\n",
       "\n",
       "    .dataframe thead th {\n",
       "        text-align: right;\n",
       "    }\n",
       "</style>\n",
       "<table border=\"1\" class=\"dataframe\">\n",
       "  <thead>\n",
       "    <tr style=\"text-align: right;\">\n",
       "      <th></th>\n",
       "      <th>Name</th>\n",
       "      <th>homepage_url</th>\n",
       "      <th>category_list</th>\n",
       "      <th>funding_total_usd</th>\n",
       "      <th>status</th>\n",
       "      <th>country_code</th>\n",
       "      <th>funding_rounds</th>\n",
       "      <th>founded_at</th>\n",
       "      <th>first_funding_at</th>\n",
       "      <th>last_funding_at</th>\n",
       "    </tr>\n",
       "  </thead>\n",
       "  <tbody>\n",
       "    <tr>\n",
       "      <th>0</th>\n",
       "      <td>#fame</td>\n",
       "      <td>http://livfame.com</td>\n",
       "      <td>Media</td>\n",
       "      <td>10000000</td>\n",
       "      <td>operating</td>\n",
       "      <td>IND</td>\n",
       "      <td>1</td>\n",
       "      <td>2010-11-03 15:04:20.452330352</td>\n",
       "      <td>2015-05-01</td>\n",
       "      <td>2015-05-01</td>\n",
       "    </tr>\n",
       "    <tr>\n",
       "      <th>1</th>\n",
       "      <td>:Qounter</td>\n",
       "      <td>http://www.qounter.com</td>\n",
       "      <td>Application Platforms|Real Time|Social Network...</td>\n",
       "      <td>700000</td>\n",
       "      <td>operating</td>\n",
       "      <td>USA</td>\n",
       "      <td>2</td>\n",
       "      <td>2014-04-09 00:00:00.000000000</td>\n",
       "      <td>2014-01-03</td>\n",
       "      <td>2014-10-14</td>\n",
       "    </tr>\n",
       "    <tr>\n",
       "      <th>2</th>\n",
       "      <td>0-6.com</td>\n",
       "      <td>http://www.0-6.com</td>\n",
       "      <td>Curated Web</td>\n",
       "      <td>2000000</td>\n",
       "      <td>operating</td>\n",
       "      <td>CHN</td>\n",
       "      <td>1</td>\n",
       "      <td>2007-01-01 00:00:00.000000000</td>\n",
       "      <td>2008-03-19</td>\n",
       "      <td>2008-03-19</td>\n",
       "    </tr>\n",
       "    <tr>\n",
       "      <th>4</th>\n",
       "      <td>01Games Technology</td>\n",
       "      <td>http://www.01games.hk/</td>\n",
       "      <td>Games</td>\n",
       "      <td>41250</td>\n",
       "      <td>operating</td>\n",
       "      <td>HKG</td>\n",
       "      <td>1</td>\n",
       "      <td>2009-07-12 15:04:20.452330352</td>\n",
       "      <td>2014-01-07</td>\n",
       "      <td>2014-01-07</td>\n",
       "    </tr>\n",
       "    <tr>\n",
       "      <th>5</th>\n",
       "      <td>Ondine Biomedical Inc.</td>\n",
       "      <td>http://ondinebio.com</td>\n",
       "      <td>Biotechnology</td>\n",
       "      <td>762851</td>\n",
       "      <td>operating</td>\n",
       "      <td>CAN</td>\n",
       "      <td>2</td>\n",
       "      <td>1997-01-01 00:00:00.000000000</td>\n",
       "      <td>2009-11-09</td>\n",
       "      <td>2009-12-21</td>\n",
       "    </tr>\n",
       "  </tbody>\n",
       "</table>\n",
       "</div>"
      ],
      "text/plain": [
       "                     Name            homepage_url  \\\n",
       "0                   #fame      http://livfame.com   \n",
       "1                :Qounter  http://www.qounter.com   \n",
       "2                 0-6.com      http://www.0-6.com   \n",
       "4      01Games Technology  http://www.01games.hk/   \n",
       "5  Ondine Biomedical Inc.    http://ondinebio.com   \n",
       "\n",
       "                                       category_list funding_total_usd  \\\n",
       "0                                              Media          10000000   \n",
       "1  Application Platforms|Real Time|Social Network...            700000   \n",
       "2                                        Curated Web           2000000   \n",
       "4                                              Games             41250   \n",
       "5                                      Biotechnology            762851   \n",
       "\n",
       "      status country_code  funding_rounds                    founded_at  \\\n",
       "0  operating          IND               1 2010-11-03 15:04:20.452330352   \n",
       "1  operating          USA               2 2014-04-09 00:00:00.000000000   \n",
       "2  operating          CHN               1 2007-01-01 00:00:00.000000000   \n",
       "4  operating          HKG               1 2009-07-12 15:04:20.452330352   \n",
       "5  operating          CAN               2 1997-01-01 00:00:00.000000000   \n",
       "\n",
       "  first_funding_at last_funding_at  \n",
       "0       2015-05-01      2015-05-01  \n",
       "1       2014-01-03      2014-10-14  \n",
       "2       2008-03-19      2008-03-19  \n",
       "4       2014-01-07      2014-01-07  \n",
       "5       2009-11-09      2009-12-21  "
      ]
     },
     "execution_count": 87,
     "metadata": {},
     "output_type": "execute_result"
    }
   ],
   "source": [
    "companies.head()"
   ]
  },
  {
   "cell_type": "code",
   "execution_count": 88,
   "id": "b6581fd0-95c1-4fbb-bf6f-faf6698236f8",
   "metadata": {
    "tags": []
   },
   "outputs": [],
   "source": [
    "# need to reset index again\n",
    "companies = companies.reset_index(drop=True)"
   ]
  },
  {
   "cell_type": "code",
   "execution_count": 89,
   "id": "96b61dce-b152-4b57-84cc-36639647ec10",
   "metadata": {
    "tags": []
   },
   "outputs": [
    {
     "data": {
      "text/html": [
       "<div>\n",
       "<style scoped>\n",
       "    .dataframe tbody tr th:only-of-type {\n",
       "        vertical-align: middle;\n",
       "    }\n",
       "\n",
       "    .dataframe tbody tr th {\n",
       "        vertical-align: top;\n",
       "    }\n",
       "\n",
       "    .dataframe thead th {\n",
       "        text-align: right;\n",
       "    }\n",
       "</style>\n",
       "<table border=\"1\" class=\"dataframe\">\n",
       "  <thead>\n",
       "    <tr style=\"text-align: right;\">\n",
       "      <th></th>\n",
       "      <th>Name</th>\n",
       "      <th>homepage_url</th>\n",
       "      <th>category_list</th>\n",
       "      <th>funding_total_usd</th>\n",
       "      <th>status</th>\n",
       "      <th>country_code</th>\n",
       "      <th>funding_rounds</th>\n",
       "      <th>founded_at</th>\n",
       "      <th>first_funding_at</th>\n",
       "      <th>last_funding_at</th>\n",
       "    </tr>\n",
       "  </thead>\n",
       "  <tbody>\n",
       "    <tr>\n",
       "      <th>0</th>\n",
       "      <td>#fame</td>\n",
       "      <td>http://livfame.com</td>\n",
       "      <td>Media</td>\n",
       "      <td>10000000</td>\n",
       "      <td>operating</td>\n",
       "      <td>IND</td>\n",
       "      <td>1</td>\n",
       "      <td>2010-11-03 15:04:20.452330352</td>\n",
       "      <td>2015-05-01</td>\n",
       "      <td>2015-05-01</td>\n",
       "    </tr>\n",
       "    <tr>\n",
       "      <th>1</th>\n",
       "      <td>:Qounter</td>\n",
       "      <td>http://www.qounter.com</td>\n",
       "      <td>Application Platforms|Real Time|Social Network...</td>\n",
       "      <td>700000</td>\n",
       "      <td>operating</td>\n",
       "      <td>USA</td>\n",
       "      <td>2</td>\n",
       "      <td>2014-04-09 00:00:00.000000000</td>\n",
       "      <td>2014-01-03</td>\n",
       "      <td>2014-10-14</td>\n",
       "    </tr>\n",
       "    <tr>\n",
       "      <th>2</th>\n",
       "      <td>0-6.com</td>\n",
       "      <td>http://www.0-6.com</td>\n",
       "      <td>Curated Web</td>\n",
       "      <td>2000000</td>\n",
       "      <td>operating</td>\n",
       "      <td>CHN</td>\n",
       "      <td>1</td>\n",
       "      <td>2007-01-01 00:00:00.000000000</td>\n",
       "      <td>2008-03-19</td>\n",
       "      <td>2008-03-19</td>\n",
       "    </tr>\n",
       "    <tr>\n",
       "      <th>3</th>\n",
       "      <td>01Games Technology</td>\n",
       "      <td>http://www.01games.hk/</td>\n",
       "      <td>Games</td>\n",
       "      <td>41250</td>\n",
       "      <td>operating</td>\n",
       "      <td>HKG</td>\n",
       "      <td>1</td>\n",
       "      <td>2009-07-12 15:04:20.452330352</td>\n",
       "      <td>2014-01-07</td>\n",
       "      <td>2014-01-07</td>\n",
       "    </tr>\n",
       "    <tr>\n",
       "      <th>4</th>\n",
       "      <td>Ondine Biomedical Inc.</td>\n",
       "      <td>http://ondinebio.com</td>\n",
       "      <td>Biotechnology</td>\n",
       "      <td>762851</td>\n",
       "      <td>operating</td>\n",
       "      <td>CAN</td>\n",
       "      <td>2</td>\n",
       "      <td>1997-01-01 00:00:00.000000000</td>\n",
       "      <td>2009-11-09</td>\n",
       "      <td>2009-12-21</td>\n",
       "    </tr>\n",
       "  </tbody>\n",
       "</table>\n",
       "</div>"
      ],
      "text/plain": [
       "                     Name            homepage_url  \\\n",
       "0                   #fame      http://livfame.com   \n",
       "1                :Qounter  http://www.qounter.com   \n",
       "2                 0-6.com      http://www.0-6.com   \n",
       "3      01Games Technology  http://www.01games.hk/   \n",
       "4  Ondine Biomedical Inc.    http://ondinebio.com   \n",
       "\n",
       "                                       category_list funding_total_usd  \\\n",
       "0                                              Media          10000000   \n",
       "1  Application Platforms|Real Time|Social Network...            700000   \n",
       "2                                        Curated Web           2000000   \n",
       "3                                              Games             41250   \n",
       "4                                      Biotechnology            762851   \n",
       "\n",
       "      status country_code  funding_rounds                    founded_at  \\\n",
       "0  operating          IND               1 2010-11-03 15:04:20.452330352   \n",
       "1  operating          USA               2 2014-04-09 00:00:00.000000000   \n",
       "2  operating          CHN               1 2007-01-01 00:00:00.000000000   \n",
       "3  operating          HKG               1 2009-07-12 15:04:20.452330352   \n",
       "4  operating          CAN               2 1997-01-01 00:00:00.000000000   \n",
       "\n",
       "  first_funding_at last_funding_at  \n",
       "0       2015-05-01      2015-05-01  \n",
       "1       2014-01-03      2014-10-14  \n",
       "2       2008-03-19      2008-03-19  \n",
       "3       2014-01-07      2014-01-07  \n",
       "4       2009-11-09      2009-12-21  "
      ]
     },
     "execution_count": 89,
     "metadata": {},
     "output_type": "execute_result"
    }
   ],
   "source": [
    "companies.head()"
   ]
  },
  {
   "cell_type": "code",
   "execution_count": 90,
   "id": "cefc436c-0ee2-4a33-b8b3-4c3418dcf15c",
   "metadata": {
    "tags": []
   },
   "outputs": [
    {
     "name": "stdout",
     "output_type": "stream",
     "text": [
      "<class 'pandas.core.frame.DataFrame'>\n",
      "RangeIndex: 48433 entries, 0 to 48432\n",
      "Data columns (total 10 columns):\n",
      " #   Column             Non-Null Count  Dtype         \n",
      "---  ------             --------------  -----         \n",
      " 0   Name               48433 non-null  object        \n",
      " 1   homepage_url       48433 non-null  object        \n",
      " 2   category_list      48433 non-null  object        \n",
      " 3   funding_total_usd  48433 non-null  object        \n",
      " 4   status             48433 non-null  object        \n",
      " 5   country_code       48433 non-null  object        \n",
      " 6   funding_rounds     48433 non-null  int64         \n",
      " 7   founded_at         48433 non-null  datetime64[ns]\n",
      " 8   first_funding_at   48433 non-null  datetime64[ns]\n",
      " 9   last_funding_at    48433 non-null  datetime64[ns]\n",
      "dtypes: datetime64[ns](3), int64(1), object(6)\n",
      "memory usage: 3.7+ MB\n"
     ]
    }
   ],
   "source": [
    "companies.info()"
   ]
  },
  {
   "cell_type": "code",
   "execution_count": 92,
   "id": "daa70642-6b3d-4e37-a16b-97fc29ed8265",
   "metadata": {
    "tags": []
   },
   "outputs": [],
   "source": [
    "# I just need to change the type of the column now\n",
    "companies['funding_total_usd'] = companies['funding_total_usd'].astype(float)"
   ]
  },
  {
   "cell_type": "code",
   "execution_count": 93,
   "id": "524f25d1-064c-43b0-a56a-3930b43632bc",
   "metadata": {
    "tags": []
   },
   "outputs": [
    {
     "name": "stdout",
     "output_type": "stream",
     "text": [
      "<class 'pandas.core.frame.DataFrame'>\n",
      "RangeIndex: 48433 entries, 0 to 48432\n",
      "Data columns (total 10 columns):\n",
      " #   Column             Non-Null Count  Dtype         \n",
      "---  ------             --------------  -----         \n",
      " 0   Name               48433 non-null  object        \n",
      " 1   homepage_url       48433 non-null  object        \n",
      " 2   category_list      48433 non-null  object        \n",
      " 3   funding_total_usd  48433 non-null  float64       \n",
      " 4   status             48433 non-null  object        \n",
      " 5   country_code       48433 non-null  object        \n",
      " 6   funding_rounds     48433 non-null  int64         \n",
      " 7   founded_at         48433 non-null  datetime64[ns]\n",
      " 8   first_funding_at   48433 non-null  datetime64[ns]\n",
      " 9   last_funding_at    48433 non-null  datetime64[ns]\n",
      "dtypes: datetime64[ns](3), float64(1), int64(1), object(5)\n",
      "memory usage: 3.7+ MB\n"
     ]
    }
   ],
   "source": [
    "companies.info()"
   ]
  },
  {
   "cell_type": "code",
   "execution_count": 94,
   "id": "92371480-b208-44dd-941f-27cda4781bfc",
   "metadata": {
    "tags": []
   },
   "outputs": [
    {
     "data": {
      "text/plain": [
       "status\n",
       "operating    38769\n",
       "acquired      4575\n",
       "closed        3682\n",
       "ipo           1407\n",
       "Name: count, dtype: int64"
      ]
     },
     "execution_count": 94,
     "metadata": {},
     "output_type": "execute_result"
    }
   ],
   "source": [
    "# everything looks pretty good now\n",
    "# on to some EDA\n",
    "companies['status'].value_counts() # pretty skewed"
   ]
  },
  {
   "cell_type": "code",
   "execution_count": 103,
   "id": "1642ff6a-5164-47c9-b130-a64bb5d9e206",
   "metadata": {
    "tags": []
   },
   "outputs": [
    {
     "data": {
      "image/png": "[encoded data removed]",
      "text/plain": [
       "<Figure size 640x480 with 1 Axes>"
      ]
     },
     "metadata": {},
     "output_type": "display_data"
    }
   ],
   "source": [
    "# how is funding_total_usd distributed\n",
    "plt.figure()\n",
    "plt.hist(companies['funding_total_usd'])\n",
    "plt.show()"
   ]
  },
  {
   "cell_type": "code",
   "execution_count": 104,
   "id": "a4548c3c-4fec-4d29-9788-c36be374e3a5",
   "metadata": {
    "tags": []
   },
   "outputs": [
    {
     "data": {
      "image/png": "[encoded data removed]",
      "text/plain": [
       "<Figure size 640x480 with 1 Axes>"
      ]
     },
     "metadata": {},
     "output_type": "display_data"
    }
   ],
   "source": [
    "# that was totally not informative, what about with log scale\n",
    "plt.figure()\n",
    "plt.hist(companies['funding_total_usd'], log=True)\n",
    "plt.show()"
   ]
  },
  {
   "cell_type": "code",
   "execution_count": 105,
   "id": "be00b338-b07e-45be-8b7d-5dd3275aba54",
   "metadata": {
    "tags": []
   },
   "outputs": [
    {
     "data": {
      "text/plain": [
       "count    4.843300e+04\n",
       "mean     1.914237e+07\n",
       "std      1.898265e+08\n",
       "min      1.000000e+00\n",
       "25%      4.000000e+05\n",
       "50%      2.110800e+06\n",
       "75%      1.059986e+07\n",
       "max      3.007950e+10\n",
       "Name: funding_total_usd, dtype: float64"
      ]
     },
     "execution_count": 105,
     "metadata": {},
     "output_type": "execute_result"
    }
   ],
   "source": [
    "# still not very informative\n",
    "companies['funding_total_usd'].describe()"
   ]
  },
  {
   "cell_type": "code",
   "execution_count": 108,
   "id": "bfa4616b-6960-48ef-b602-f9c7404a3848",
   "metadata": {
    "tags": []
   },
   "outputs": [
    {
     "data": {
      "text/html": [
       "<div>\n",
       "<style scoped>\n",
       "    .dataframe tbody tr th:only-of-type {\n",
       "        vertical-align: middle;\n",
       "    }\n",
       "\n",
       "    .dataframe tbody tr th {\n",
       "        vertical-align: top;\n",
       "    }\n",
       "\n",
       "    .dataframe thead th {\n",
       "        text-align: right;\n",
       "    }\n",
       "</style>\n",
       "<table border=\"1\" class=\"dataframe\">\n",
       "  <thead>\n",
       "    <tr style=\"text-align: right;\">\n",
       "      <th></th>\n",
       "      <th>Name</th>\n",
       "      <th>homepage_url</th>\n",
       "      <th>category_list</th>\n",
       "      <th>funding_total_usd</th>\n",
       "      <th>status</th>\n",
       "      <th>country_code</th>\n",
       "      <th>funding_rounds</th>\n",
       "      <th>founded_at</th>\n",
       "      <th>first_funding_at</th>\n",
       "      <th>last_funding_at</th>\n",
       "    </tr>\n",
       "  </thead>\n",
       "  <tbody>\n",
       "    <tr>\n",
       "      <th>44912</th>\n",
       "      <td>Verizon Communications</td>\n",
       "      <td>http://www.verizon.com/</td>\n",
       "      <td>Communications Infrastructure|Information Tech...</td>\n",
       "      <td>3.007950e+10</td>\n",
       "      <td>ipo</td>\n",
       "      <td>USA</td>\n",
       "      <td>5</td>\n",
       "      <td>1983-07-10</td>\n",
       "      <td>2010-01-26</td>\n",
       "      <td>2014-02-28</td>\n",
       "    </tr>\n",
       "  </tbody>\n",
       "</table>\n",
       "</div>"
      ],
      "text/plain": [
       "                         Name             homepage_url  \\\n",
       "44912  Verizon Communications  http://www.verizon.com/   \n",
       "\n",
       "                                           category_list  funding_total_usd  \\\n",
       "44912  Communications Infrastructure|Information Tech...       3.007950e+10   \n",
       "\n",
       "      status country_code  funding_rounds founded_at first_funding_at  \\\n",
       "44912    ipo          USA               5 1983-07-10       2010-01-26   \n",
       "\n",
       "      last_funding_at  \n",
       "44912      2014-02-28  "
      ]
     },
     "execution_count": 108,
     "metadata": {},
     "output_type": "execute_result"
    }
   ],
   "source": [
    "# the smallest funding amount is $1 and largest is $30,000,000,000 which is a pretty ridiculous range\n",
    "# which company raised 30 billion?\n",
    "companies[companies['funding_total_usd'] > 30000000000 ]"
   ]
  },
  {
   "cell_type": "code",
   "execution_count": 109,
   "id": "4a085d69-85e4-46e5-b8b4-56d09dfa179b",
   "metadata": {
    "tags": []
   },
   "outputs": [
    {
     "data": {
      "text/html": [
       "<div>\n",
       "<style scoped>\n",
       "    .dataframe tbody tr th:only-of-type {\n",
       "        vertical-align: middle;\n",
       "    }\n",
       "\n",
       "    .dataframe tbody tr th {\n",
       "        vertical-align: top;\n",
       "    }\n",
       "\n",
       "    .dataframe thead th {\n",
       "        text-align: right;\n",
       "    }\n",
       "</style>\n",
       "<table border=\"1\" class=\"dataframe\">\n",
       "  <thead>\n",
       "    <tr style=\"text-align: right;\">\n",
       "      <th></th>\n",
       "      <th>Name</th>\n",
       "      <th>homepage_url</th>\n",
       "      <th>category_list</th>\n",
       "      <th>funding_total_usd</th>\n",
       "      <th>status</th>\n",
       "      <th>country_code</th>\n",
       "      <th>funding_rounds</th>\n",
       "      <th>founded_at</th>\n",
       "      <th>first_funding_at</th>\n",
       "      <th>last_funding_at</th>\n",
       "    </tr>\n",
       "  </thead>\n",
       "  <tbody>\n",
       "    <tr>\n",
       "      <th>1551</th>\n",
       "      <td>Airbnb</td>\n",
       "      <td>http://airbnb.com</td>\n",
       "      <td>Hotels|Travel</td>\n",
       "      <td>2.394820e+09</td>\n",
       "      <td>operating</td>\n",
       "      <td>USA</td>\n",
       "      <td>8</td>\n",
       "      <td>2008-01-08</td>\n",
       "      <td>2009-01-01</td>\n",
       "      <td>2015-11-20</td>\n",
       "    </tr>\n",
       "    <tr>\n",
       "      <th>1800</th>\n",
       "      <td>Alibaba</td>\n",
       "      <td>http://www.alibaba.com</td>\n",
       "      <td>E-Commerce</td>\n",
       "      <td>4.812000e+09</td>\n",
       "      <td>ipo</td>\n",
       "      <td>CHN</td>\n",
       "      <td>7</td>\n",
       "      <td>1999-01-06</td>\n",
       "      <td>1999-01-10</td>\n",
       "      <td>2014-01-04</td>\n",
       "    </tr>\n",
       "    <tr>\n",
       "      <th>2437</th>\n",
       "      <td>Ola</td>\n",
       "      <td>http://www.olacabs.com</td>\n",
       "      <td>Automotive|E-Commerce|Internet|Mobile|Mobile C...</td>\n",
       "      <td>1.176830e+09</td>\n",
       "      <td>operating</td>\n",
       "      <td>IND</td>\n",
       "      <td>7</td>\n",
       "      <td>2010-03-12</td>\n",
       "      <td>2011-04-21</td>\n",
       "      <td>2015-11-17</td>\n",
       "    </tr>\n",
       "    <tr>\n",
       "      <th>3868</th>\n",
       "      <td>Avant</td>\n",
       "      <td>http://www.avant.com</td>\n",
       "      <td>Analytics|Big Data|FinTech|Machine Learning|We...</td>\n",
       "      <td>1.729000e+09</td>\n",
       "      <td>operating</td>\n",
       "      <td>USA</td>\n",
       "      <td>10</td>\n",
       "      <td>2012-01-11</td>\n",
       "      <td>2013-08-05</td>\n",
       "      <td>2015-09-29</td>\n",
       "    </tr>\n",
       "    <tr>\n",
       "      <th>3962</th>\n",
       "      <td>Avito.ru</td>\n",
       "      <td>http://www.avito.ru</td>\n",
       "      <td>Advertising|Classifieds</td>\n",
       "      <td>1.342000e+09</td>\n",
       "      <td>acquired</td>\n",
       "      <td>RUS</td>\n",
       "      <td>5</td>\n",
       "      <td>2008-01-01</td>\n",
       "      <td>2011-05-30</td>\n",
       "      <td>2015-10-23</td>\n",
       "    </tr>\n",
       "    <tr>\n",
       "      <th>...</th>\n",
       "      <td>...</td>\n",
       "      <td>...</td>\n",
       "      <td>...</td>\n",
       "      <td>...</td>\n",
       "      <td>...</td>\n",
       "      <td>...</td>\n",
       "      <td>...</td>\n",
       "      <td>...</td>\n",
       "      <td>...</td>\n",
       "      <td>...</td>\n",
       "    </tr>\n",
       "    <tr>\n",
       "      <th>46452</th>\n",
       "      <td>WeWork</td>\n",
       "      <td>http://www.wework.com</td>\n",
       "      <td>Collaboration|Coworking|Real Estate|Social Med...</td>\n",
       "      <td>1.002784e+09</td>\n",
       "      <td>operating</td>\n",
       "      <td>USA</td>\n",
       "      <td>6</td>\n",
       "      <td>2010-02-15</td>\n",
       "      <td>2012-01-30</td>\n",
       "      <td>2015-06-25</td>\n",
       "    </tr>\n",
       "    <tr>\n",
       "      <th>47254</th>\n",
       "      <td>Xerox</td>\n",
       "      <td>http://www.xerox.com</td>\n",
       "      <td>Hardware + Software</td>\n",
       "      <td>1.100000e+09</td>\n",
       "      <td>ipo</td>\n",
       "      <td>USA</td>\n",
       "      <td>1</td>\n",
       "      <td>1906-01-01</td>\n",
       "      <td>2012-03-15</td>\n",
       "      <td>2012-03-15</td>\n",
       "    </tr>\n",
       "    <tr>\n",
       "      <th>47278</th>\n",
       "      <td>Xiaomi</td>\n",
       "      <td>http://www.mi.com</td>\n",
       "      <td>Consumer Electronics|Mobile</td>\n",
       "      <td>1.447000e+09</td>\n",
       "      <td>operating</td>\n",
       "      <td>CHN</td>\n",
       "      <td>6</td>\n",
       "      <td>2010-04-04</td>\n",
       "      <td>2010-01-12</td>\n",
       "      <td>2015-04-27</td>\n",
       "    </tr>\n",
       "    <tr>\n",
       "      <th>47706</th>\n",
       "      <td>Youku</td>\n",
       "      <td>http://www.youku.com</td>\n",
       "      <td>Broadcasting|Photography|Technology</td>\n",
       "      <td>1.320000e+09</td>\n",
       "      <td>acquired</td>\n",
       "      <td>CHN</td>\n",
       "      <td>6</td>\n",
       "      <td>2006-12-21</td>\n",
       "      <td>2006-01-03</td>\n",
       "      <td>2014-04-28</td>\n",
       "    </tr>\n",
       "    <tr>\n",
       "      <th>47936</th>\n",
       "      <td>Zebra Technologies</td>\n",
       "      <td>http://www.zebra.com</td>\n",
       "      <td>Enterprise Software</td>\n",
       "      <td>2.000000e+09</td>\n",
       "      <td>ipo</td>\n",
       "      <td>USA</td>\n",
       "      <td>1</td>\n",
       "      <td>1991-01-01</td>\n",
       "      <td>2014-09-16</td>\n",
       "      <td>2014-09-16</td>\n",
       "    </tr>\n",
       "  </tbody>\n",
       "</table>\n",
       "<p>61 rows × 10 columns</p>\n",
       "</div>"
      ],
      "text/plain": [
       "                     Name            homepage_url  \\\n",
       "1551               Airbnb       http://airbnb.com   \n",
       "1800              Alibaba  http://www.alibaba.com   \n",
       "2437                  Ola  http://www.olacabs.com   \n",
       "3868                Avant    http://www.avant.com   \n",
       "3962             Avito.ru     http://www.avito.ru   \n",
       "...                   ...                     ...   \n",
       "46452              WeWork   http://www.wework.com   \n",
       "47254               Xerox    http://www.xerox.com   \n",
       "47278              Xiaomi       http://www.mi.com   \n",
       "47706               Youku    http://www.youku.com   \n",
       "47936  Zebra Technologies    http://www.zebra.com   \n",
       "\n",
       "                                           category_list  funding_total_usd  \\\n",
       "1551                                       Hotels|Travel       2.394820e+09   \n",
       "1800                                          E-Commerce       4.812000e+09   \n",
       "2437   Automotive|E-Commerce|Internet|Mobile|Mobile C...       1.176830e+09   \n",
       "3868   Analytics|Big Data|FinTech|Machine Learning|We...       1.729000e+09   \n",
       "3962                             Advertising|Classifieds       1.342000e+09   \n",
       "...                                                  ...                ...   \n",
       "46452  Collaboration|Coworking|Real Estate|Social Med...       1.002784e+09   \n",
       "47254                                Hardware + Software       1.100000e+09   \n",
       "47278                        Consumer Electronics|Mobile       1.447000e+09   \n",
       "47706                Broadcasting|Photography|Technology       1.320000e+09   \n",
       "47936                                Enterprise Software       2.000000e+09   \n",
       "\n",
       "          status country_code  funding_rounds founded_at first_funding_at  \\\n",
       "1551   operating          USA               8 2008-01-08       2009-01-01   \n",
       "1800         ipo          CHN               7 1999-01-06       1999-01-10   \n",
       "2437   operating          IND               7 2010-03-12       2011-04-21   \n",
       "3868   operating          USA              10 2012-01-11       2013-08-05   \n",
       "3962    acquired          RUS               5 2008-01-01       2011-05-30   \n",
       "...          ...          ...             ...        ...              ...   \n",
       "46452  operating          USA               6 2010-02-15       2012-01-30   \n",
       "47254        ipo          USA               1 1906-01-01       2012-03-15   \n",
       "47278  operating          CHN               6 2010-04-04       2010-01-12   \n",
       "47706   acquired          CHN               6 2006-12-21       2006-01-03   \n",
       "47936        ipo          USA               1 1991-01-01       2014-09-16   \n",
       "\n",
       "      last_funding_at  \n",
       "1551       2015-11-20  \n",
       "1800       2014-01-04  \n",
       "2437       2015-11-17  \n",
       "3868       2015-09-29  \n",
       "3962       2015-10-23  \n",
       "...               ...  \n",
       "46452      2015-06-25  \n",
       "47254      2012-03-15  \n",
       "47278      2015-04-27  \n",
       "47706      2014-04-28  \n",
       "47936      2014-09-16  \n",
       "\n",
       "[61 rows x 10 columns]"
      ]
     },
     "execution_count": 109,
     "metadata": {},
     "output_type": "execute_result"
    }
   ],
   "source": [
    "# it's verizon which actually makes sense, but probably doesn't count as a startup\n",
    "# what other companies are there here with huge funding totals?\n",
    "# filtering for over 1B\n",
    "companies[companies['funding_total_usd'] > 1000000000 ] # there are 61"
   ]
  },
  {
   "cell_type": "code",
   "execution_count": null,
   "id": "fde827fd-d83e-428f-a552-afc388557786",
   "metadata": {},
   "outputs": [],
   "source": []
  }
 ],
 "metadata": {
  "kernelspec": {
   "display_name": "Python 3 (ipykernel)",
   "language": "python",
   "name": "python3"
  },
  "language_info": {
   "codemirror_mode": {
    "name": "ipython",
    "version": 3
   },
   "file_extension": ".py",
   "mimetype": "text/x-python",
   "name": "python",
   "nbconvert_exporter": "python",
   "pygments_lexer": "ipython3",
   "version": "3.11.5"
  }
 },
 "nbformat": 4,
 "nbformat_minor": 5
}
