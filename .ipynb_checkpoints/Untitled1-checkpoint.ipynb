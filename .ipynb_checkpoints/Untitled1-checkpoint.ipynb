{
 "cells": [
  {
   "cell_type": "code",
   "execution_count": null,
   "id": "313c766c-5c07-4a1e-a824-a465879d8c95",
   "metadata": {},
   "outputs": [],
   "source": [
    "# I can impute missing URLs by just filling them in with companyname.com\n",
    "# first add unformatted name column for use in creating URLs\n",
    "companies['name_unformatted'] = companies['Name']\n",
    "\n",
    "for i in companies[companies['homepage_url'].isna()].index:\n",
    "    companies.at[i, 'name_unformatted'] = str(companies['name_unformatted'][i]).lower().replace(' ', '')\n",
    "    if not companies['name_unformatted'][i].isalnum():\n",
    "        for char in companies['name_unformatted'][i]:\n",
    "            if not char.isalnum():\n",
    "                companies.at[i, 'name_unformatted'] = companies['name_unformatted'][i].replace(char, '')"
   ]
  },
  {
   "cell_type": "code",
   "execution_count": null,
   "id": "3ac73742-1647-4c9a-8980-100787826a35",
   "metadata": {},
   "outputs": [],
   "source": [
    "# create URLs using unformatted names for rows with null values\n",
    "\n",
    "for i in companies[companies['homepage_url'].isna()].index:\n",
    "    companies.at[i, 'homepage_url'] = f'{companies[\"name_unformatted\"][i]}.com'"
   ]
  },
  {
   "cell_type": "code",
   "execution_count": null,
   "id": "7708f2ef-e2a4-4f79-9d4b-4a41fffe1ee9",
   "metadata": {},
   "outputs": [],
   "source": [
    "# nulls are gone\n",
    "companies['homepage_url'].isna().sum()"
   ]
  },
  {
   "cell_type": "code",
   "execution_count": null,
   "id": "cdb781c6-4817-4b86-83ec-f7e00410e16a",
   "metadata": {},
   "outputs": [],
   "source": [
    "# double checking a specific instance\n",
    "companies['homepage_url'][10]\n",
    "\n",
    "# should I create a new column that indicates that these rows' websites are made up? I might need to if I'm going to create a new status column based off of it"
   ]
  },
  {
   "cell_type": "code",
   "execution_count": null,
   "id": "e46b59f4-3b26-4690-b6ed-3fd45ec908fc",
   "metadata": {},
   "outputs": [],
   "source": []
  },
  {
   "cell_type": "code",
   "execution_count": null,
   "id": "95c3ec2a-e9bb-48f9-8dcc-370d997d751d",
   "metadata": {},
   "outputs": [],
   "source": []
  },
  {
   "cell_type": "code",
   "execution_count": null,
   "id": "71db400e-a1f7-4236-a0df-a383d83beee4",
   "metadata": {},
   "outputs": [],
   "source": [
    "# everything looks pretty good now\n",
    "# on to some EDA\n",
    "companies['status'].value_counts() # pretty unbalanced"
   ]
  },
  {
   "cell_type": "code",
   "execution_count": null,
   "id": "b3f9169e-c7e9-4098-9bd5-b319a6090b28",
   "metadata": {},
   "outputs": [],
   "source": [
    "companies['funding_total_usd'].value_counts().plot(kind='hist') # don't know why this doesn't work"
   ]
  },
  {
   "cell_type": "code",
   "execution_count": null,
   "id": "b624d38c-7282-4457-a427-038874c47a2e",
   "metadata": {},
   "outputs": [],
   "source": [
    "# here's the histogram for funding_total_usd, we can see the mean is around 1 million\n",
    "sns.histplot(companies['funding_total_usd'], log_scale=True)"
   ]
  },
  {
   "cell_type": "code",
   "execution_count": null,
   "id": "0c4aa66b-8443-4b01-a668-f296b829aad2",
   "metadata": {},
   "outputs": [],
   "source": [
    "# the smallest funding amount is $1 and largest is $30,000,000,000 which is a pretty ridiculous range\n",
    "# which company raised 30 billion?\n",
    "companies[companies['funding_total_usd'] > 30000000000 ]"
   ]
  },
  {
   "cell_type": "code",
   "execution_count": null,
   "id": "21d1fed3-f80b-455e-a33a-fdfebd50a35e",
   "metadata": {},
   "outputs": [],
   "source": [
    "# it's verizon which actually makes sense, but may not count as a startup\n",
    "# what other companies are there here with huge funding totals?\n",
    "# filtering for over 1B\n",
    "companies[companies['funding_total_usd'] > 1000000000 ] # there are 61"
   ]
  }
 ],
 "metadata": {
  "kernelspec": {
   "display_name": "Python 3 (ipykernel)",
   "language": "python",
   "name": "python3"
  },
  "language_info": {
   "codemirror_mode": {
    "name": "ipython",
    "version": 3
   },
   "file_extension": ".py",
   "mimetype": "text/x-python",
   "name": "python",
   "nbconvert_exporter": "python",
   "pygments_lexer": "ipython3",
   "version": "3.8.12"
  }
 },
 "nbformat": 4,
 "nbformat_minor": 5
}
