{
 "cells": [
  {
   "cell_type": "code",
   "execution_count": 2,
   "id": "3a3ab279-23d2-48ae-ae9f-b12d8e5a23d1",
   "metadata": {
    "tags": []
   },
   "outputs": [],
   "source": [
    "import pandas as pd\n",
    "import json"
   ]
  },
  {
   "cell_type": "code",
   "execution_count": 3,
   "id": "25e9f7c2-c24f-4204-b0ea-17f9a9dd81f6",
   "metadata": {
    "tags": []
   },
   "outputs": [],
   "source": [
    "jsons = ['S05-S07.json', 'W08-W16.json', 'S16-W19.json', 'S19-W21.json', 'S21-W22.json', 'S22-S23.json']"
   ]
  },
  {
   "cell_type": "code",
   "execution_count": 4,
   "id": "374f2cf9-4364-4bac-b287-4fced6a0d17d",
   "metadata": {
    "tags": []
   },
   "outputs": [],
   "source": [
    "companies = []"
   ]
  },
  {
   "cell_type": "code",
   "execution_count": 5,
   "id": "af3de149-4cf7-4217-bff3-574faa887976",
   "metadata": {
    "tags": []
   },
   "outputs": [],
   "source": [
    "for js in jsons:\n",
    "    for dic in json.load(open(js))['results'][0]['hits']:\n",
    "        companies.append(dic)"
   ]
  },
  {
   "cell_type": "code",
   "execution_count": 6,
   "id": "adf65bbf-ebd3-4609-aa1d-38ef28ccf13b",
   "metadata": {
    "tags": []
   },
   "outputs": [
    {
     "data": {
      "text/plain": [
       "4410"
      ]
     },
     "execution_count": 6,
     "metadata": {},
     "output_type": "execute_result"
    }
   ],
   "source": [
    "len(companies)"
   ]
  },
  {
   "cell_type": "code",
   "execution_count": 7,
   "id": "3ca094a1-101d-41d9-b7f9-8ecdd54d13f7",
   "metadata": {
    "tags": []
   },
   "outputs": [
    {
     "data": {
      "text/plain": [
       "{'id': 325,\n",
       " 'name': 'Dropbox',\n",
       " 'slug': 'dropbox',\n",
       " 'former_names': [],\n",
       " 'small_logo_thumb_url': 'https://bookface-images.s3.amazonaws.com/small_logos/f09464ae6ddf165ef871115af711c89d6530057f.png',\n",
       " 'website': 'http://dropbox.com',\n",
       " 'all_locations': 'San Francisco, CA, USA',\n",
       " 'long_description': 'Dropbox is building the world’s first smart workspace.\\r\\nBack in 2007, making work better for people meant designing a simpler way to keep files in sync. Today, it means designing products that reduce busywork so you can focus on the work that matters.\\r\\n\\r\\nMost “productivity tools” get in your way. They constantly ping, distract, and disrupt your team’s flow, so you spend your days switching between apps and tracking down feedback. It’s busywork, not the meaningful stuff. We want to change this. \\r\\n\\r\\nWe believe there’s a more enlightened way to work. Dropbox helps people be organized, stay focused, and get in sync with their teams.',\n",
       " 'one_liner': 'Backup and share files in the cloud.',\n",
       " 'team_size': 4000,\n",
       " 'highlight_black': False,\n",
       " 'highlight_latinx': False,\n",
       " 'highlight_women': False,\n",
       " 'industry': 'B2B',\n",
       " 'subindustry': 'B2B -> Productivity',\n",
       " 'launched_at': 1326791328,\n",
       " 'tags': [],\n",
       " 'tags_highlighted': [],\n",
       " 'top_company': True,\n",
       " 'top_company_by_revenue': True,\n",
       " 'isHiring': False,\n",
       " 'nonprofit': False,\n",
       " 'batch': 'S07',\n",
       " 'status': 'Public',\n",
       " 'industries': ['B2B', 'Productivity'],\n",
       " 'regions': ['United States of America', 'America / Canada'],\n",
       " 'stage': 'Growth',\n",
       " 'app_video_public': False,\n",
       " 'demo_day_video_public': False,\n",
       " 'app_answers': None,\n",
       " 'question_answers': False,\n",
       " 'objectID': '325',\n",
       " '_highlightResult': {'name': {'value': 'Dropbox',\n",
       "   'matchLevel': 'none',\n",
       "   'matchedWords': []},\n",
       "  'website': {'value': 'http://dropbox.com',\n",
       "   'matchLevel': 'none',\n",
       "   'matchedWords': []},\n",
       "  'all_locations': {'value': 'San Francisco, CA, USA',\n",
       "   'matchLevel': 'none',\n",
       "   'matchedWords': []},\n",
       "  'long_description': {'value': 'Dropbox is building the world’s first smart workspace.\\r\\nBack in 2007, making work better for people meant designing a simpler way to keep files in sync. Today, it means designing products that reduce busywork so you can focus on the work that matters.\\r\\n\\r\\nMost “productivity tools” get in your way. They constantly ping, distract, and disrupt your team’s flow, so you spend your days switching between apps and tracking down feedback. It’s busywork, not the meaningful stuff. We want to change this. \\r\\n\\r\\nWe believe there’s a more enlightened way to work. Dropbox helps people be organized, stay focused, and get in sync with their teams.',\n",
       "   'matchLevel': 'none',\n",
       "   'matchedWords': []},\n",
       "  'one_liner': {'value': 'Backup and share files in the cloud.',\n",
       "   'matchLevel': 'none',\n",
       "   'matchedWords': []}}}"
      ]
     },
     "execution_count": 7,
     "metadata": {},
     "output_type": "execute_result"
    }
   ],
   "source": [
    "companies[0]"
   ]
  },
  {
   "cell_type": "code",
   "execution_count": 8,
   "id": "f5f6a4d1-a91d-4b45-95ff-0c4c7ec49516",
   "metadata": {
    "tags": []
   },
   "outputs": [],
   "source": [
    "for company in companies:\n",
    "    del company['_highlightResult']"
   ]
  },
  {
   "cell_type": "code",
   "execution_count": 9,
   "id": "c7079973-dddf-4440-b37c-878ad975fb45",
   "metadata": {
    "tags": []
   },
   "outputs": [
    {
     "data": {
      "text/plain": [
       "{'id': 325,\n",
       " 'name': 'Dropbox',\n",
       " 'slug': 'dropbox',\n",
       " 'former_names': [],\n",
       " 'small_logo_thumb_url': 'https://bookface-images.s3.amazonaws.com/small_logos/f09464ae6ddf165ef871115af711c89d6530057f.png',\n",
       " 'website': 'http://dropbox.com',\n",
       " 'all_locations': 'San Francisco, CA, USA',\n",
       " 'long_description': 'Dropbox is building the world’s first smart workspace.\\r\\nBack in 2007, making work better for people meant designing a simpler way to keep files in sync. Today, it means designing products that reduce busywork so you can focus on the work that matters.\\r\\n\\r\\nMost “productivity tools” get in your way. They constantly ping, distract, and disrupt your team’s flow, so you spend your days switching between apps and tracking down feedback. It’s busywork, not the meaningful stuff. We want to change this. \\r\\n\\r\\nWe believe there’s a more enlightened way to work. Dropbox helps people be organized, stay focused, and get in sync with their teams.',\n",
       " 'one_liner': 'Backup and share files in the cloud.',\n",
       " 'team_size': 4000,\n",
       " 'highlight_black': False,\n",
       " 'highlight_latinx': False,\n",
       " 'highlight_women': False,\n",
       " 'industry': 'B2B',\n",
       " 'subindustry': 'B2B -> Productivity',\n",
       " 'launched_at': 1326791328,\n",
       " 'tags': [],\n",
       " 'tags_highlighted': [],\n",
       " 'top_company': True,\n",
       " 'top_company_by_revenue': True,\n",
       " 'isHiring': False,\n",
       " 'nonprofit': False,\n",
       " 'batch': 'S07',\n",
       " 'status': 'Public',\n",
       " 'industries': ['B2B', 'Productivity'],\n",
       " 'regions': ['United States of America', 'America / Canada'],\n",
       " 'stage': 'Growth',\n",
       " 'app_video_public': False,\n",
       " 'demo_day_video_public': False,\n",
       " 'app_answers': None,\n",
       " 'question_answers': False,\n",
       " 'objectID': '325'}"
      ]
     },
     "execution_count": 9,
     "metadata": {},
     "output_type": "execute_result"
    }
   ],
   "source": [
    "companies[0]"
   ]
  },
  {
   "cell_type": "code",
   "execution_count": 10,
   "id": "818d57f4-3c7a-4699-8bcc-f8f3e07b813c",
   "metadata": {
    "tags": []
   },
   "outputs": [],
   "source": [
    "df = pd.DataFrame(companies[0].items())"
   ]
  },
  {
   "cell_type": "code",
   "execution_count": 11,
   "id": "4087d768-f9b6-4c13-a160-7d7179fc754f",
   "metadata": {
    "tags": []
   },
   "outputs": [
    {
     "data": {
      "text/html": [
       "<div>\n",
       "<style scoped>\n",
       "    .dataframe tbody tr th:only-of-type {\n",
       "        vertical-align: middle;\n",
       "    }\n",
       "\n",
       "    .dataframe tbody tr th {\n",
       "        vertical-align: top;\n",
       "    }\n",
       "\n",
       "    .dataframe thead th {\n",
       "        text-align: right;\n",
       "    }\n",
       "</style>\n",
       "<table border=\"1\" class=\"dataframe\">\n",
       "  <thead>\n",
       "    <tr style=\"text-align: right;\">\n",
       "      <th></th>\n",
       "      <th>0</th>\n",
       "      <th>1</th>\n",
       "    </tr>\n",
       "  </thead>\n",
       "  <tbody>\n",
       "    <tr>\n",
       "      <th>0</th>\n",
       "      <td>id</td>\n",
       "      <td>325</td>\n",
       "    </tr>\n",
       "    <tr>\n",
       "      <th>1</th>\n",
       "      <td>name</td>\n",
       "      <td>Dropbox</td>\n",
       "    </tr>\n",
       "    <tr>\n",
       "      <th>2</th>\n",
       "      <td>slug</td>\n",
       "      <td>dropbox</td>\n",
       "    </tr>\n",
       "    <tr>\n",
       "      <th>3</th>\n",
       "      <td>former_names</td>\n",
       "      <td>[]</td>\n",
       "    </tr>\n",
       "    <tr>\n",
       "      <th>4</th>\n",
       "      <td>small_logo_thumb_url</td>\n",
       "      <td>https://bookface-images.s3.amazonaws.com/small...</td>\n",
       "    </tr>\n",
       "    <tr>\n",
       "      <th>5</th>\n",
       "      <td>website</td>\n",
       "      <td>http://dropbox.com</td>\n",
       "    </tr>\n",
       "    <tr>\n",
       "      <th>6</th>\n",
       "      <td>all_locations</td>\n",
       "      <td>San Francisco, CA, USA</td>\n",
       "    </tr>\n",
       "    <tr>\n",
       "      <th>7</th>\n",
       "      <td>long_description</td>\n",
       "      <td>Dropbox is building the world’s first smart wo...</td>\n",
       "    </tr>\n",
       "    <tr>\n",
       "      <th>8</th>\n",
       "      <td>one_liner</td>\n",
       "      <td>Backup and share files in the cloud.</td>\n",
       "    </tr>\n",
       "    <tr>\n",
       "      <th>9</th>\n",
       "      <td>team_size</td>\n",
       "      <td>4000</td>\n",
       "    </tr>\n",
       "    <tr>\n",
       "      <th>10</th>\n",
       "      <td>highlight_black</td>\n",
       "      <td>False</td>\n",
       "    </tr>\n",
       "    <tr>\n",
       "      <th>11</th>\n",
       "      <td>highlight_latinx</td>\n",
       "      <td>False</td>\n",
       "    </tr>\n",
       "    <tr>\n",
       "      <th>12</th>\n",
       "      <td>highlight_women</td>\n",
       "      <td>False</td>\n",
       "    </tr>\n",
       "    <tr>\n",
       "      <th>13</th>\n",
       "      <td>industry</td>\n",
       "      <td>B2B</td>\n",
       "    </tr>\n",
       "    <tr>\n",
       "      <th>14</th>\n",
       "      <td>subindustry</td>\n",
       "      <td>B2B -&gt; Productivity</td>\n",
       "    </tr>\n",
       "    <tr>\n",
       "      <th>15</th>\n",
       "      <td>launched_at</td>\n",
       "      <td>1326791328</td>\n",
       "    </tr>\n",
       "    <tr>\n",
       "      <th>16</th>\n",
       "      <td>tags</td>\n",
       "      <td>[]</td>\n",
       "    </tr>\n",
       "    <tr>\n",
       "      <th>17</th>\n",
       "      <td>tags_highlighted</td>\n",
       "      <td>[]</td>\n",
       "    </tr>\n",
       "    <tr>\n",
       "      <th>18</th>\n",
       "      <td>top_company</td>\n",
       "      <td>True</td>\n",
       "    </tr>\n",
       "    <tr>\n",
       "      <th>19</th>\n",
       "      <td>top_company_by_revenue</td>\n",
       "      <td>True</td>\n",
       "    </tr>\n",
       "    <tr>\n",
       "      <th>20</th>\n",
       "      <td>isHiring</td>\n",
       "      <td>False</td>\n",
       "    </tr>\n",
       "    <tr>\n",
       "      <th>21</th>\n",
       "      <td>nonprofit</td>\n",
       "      <td>False</td>\n",
       "    </tr>\n",
       "    <tr>\n",
       "      <th>22</th>\n",
       "      <td>batch</td>\n",
       "      <td>S07</td>\n",
       "    </tr>\n",
       "    <tr>\n",
       "      <th>23</th>\n",
       "      <td>status</td>\n",
       "      <td>Public</td>\n",
       "    </tr>\n",
       "    <tr>\n",
       "      <th>24</th>\n",
       "      <td>industries</td>\n",
       "      <td>[B2B, Productivity]</td>\n",
       "    </tr>\n",
       "    <tr>\n",
       "      <th>25</th>\n",
       "      <td>regions</td>\n",
       "      <td>[United States of America, America / Canada]</td>\n",
       "    </tr>\n",
       "    <tr>\n",
       "      <th>26</th>\n",
       "      <td>stage</td>\n",
       "      <td>Growth</td>\n",
       "    </tr>\n",
       "    <tr>\n",
       "      <th>27</th>\n",
       "      <td>app_video_public</td>\n",
       "      <td>False</td>\n",
       "    </tr>\n",
       "    <tr>\n",
       "      <th>28</th>\n",
       "      <td>demo_day_video_public</td>\n",
       "      <td>False</td>\n",
       "    </tr>\n",
       "    <tr>\n",
       "      <th>29</th>\n",
       "      <td>app_answers</td>\n",
       "      <td>None</td>\n",
       "    </tr>\n",
       "    <tr>\n",
       "      <th>30</th>\n",
       "      <td>question_answers</td>\n",
       "      <td>False</td>\n",
       "    </tr>\n",
       "    <tr>\n",
       "      <th>31</th>\n",
       "      <td>objectID</td>\n",
       "      <td>325</td>\n",
       "    </tr>\n",
       "  </tbody>\n",
       "</table>\n",
       "</div>"
      ],
      "text/plain": [
       "                         0                                                  1\n",
       "0                       id                                                325\n",
       "1                     name                                            Dropbox\n",
       "2                     slug                                            dropbox\n",
       "3             former_names                                                 []\n",
       "4     small_logo_thumb_url  https://bookface-images.s3.amazonaws.com/small...\n",
       "5                  website                                 http://dropbox.com\n",
       "6            all_locations                             San Francisco, CA, USA\n",
       "7         long_description  Dropbox is building the world’s first smart wo...\n",
       "8                one_liner               Backup and share files in the cloud.\n",
       "9                team_size                                               4000\n",
       "10         highlight_black                                              False\n",
       "11        highlight_latinx                                              False\n",
       "12         highlight_women                                              False\n",
       "13                industry                                                B2B\n",
       "14             subindustry                                B2B -> Productivity\n",
       "15             launched_at                                         1326791328\n",
       "16                    tags                                                 []\n",
       "17        tags_highlighted                                                 []\n",
       "18             top_company                                               True\n",
       "19  top_company_by_revenue                                               True\n",
       "20                isHiring                                              False\n",
       "21               nonprofit                                              False\n",
       "22                   batch                                                S07\n",
       "23                  status                                             Public\n",
       "24              industries                                [B2B, Productivity]\n",
       "25                 regions       [United States of America, America / Canada]\n",
       "26                   stage                                             Growth\n",
       "27        app_video_public                                              False\n",
       "28   demo_day_video_public                                              False\n",
       "29             app_answers                                               None\n",
       "30        question_answers                                              False\n",
       "31                objectID                                                325"
      ]
     },
     "execution_count": 11,
     "metadata": {},
     "output_type": "execute_result"
    }
   ],
   "source": [
    "df"
   ]
  },
  {
   "cell_type": "code",
   "execution_count": 12,
   "id": "d325daf7-87da-40aa-9414-ed2c404c5acb",
   "metadata": {
    "tags": []
   },
   "outputs": [],
   "source": [
    "df = df.set_index(0).T"
   ]
  },
  {
   "cell_type": "code",
   "execution_count": 13,
   "id": "935cf345-d68d-470e-b1d9-1b479d47aa88",
   "metadata": {
    "tags": []
   },
   "outputs": [],
   "source": [
    "df = df.reset_index()"
   ]
  },
  {
   "cell_type": "code",
   "execution_count": 14,
   "id": "96f28511-8af3-4660-8554-1e6ec1df3975",
   "metadata": {
    "tags": []
   },
   "outputs": [
    {
     "data": {
      "text/html": [
       "<div>\n",
       "<style scoped>\n",
       "    .dataframe tbody tr th:only-of-type {\n",
       "        vertical-align: middle;\n",
       "    }\n",
       "\n",
       "    .dataframe tbody tr th {\n",
       "        vertical-align: top;\n",
       "    }\n",
       "\n",
       "    .dataframe thead th {\n",
       "        text-align: right;\n",
       "    }\n",
       "</style>\n",
       "<table border=\"1\" class=\"dataframe\">\n",
       "  <thead>\n",
       "    <tr style=\"text-align: right;\">\n",
       "      <th></th>\n",
       "      <th>index</th>\n",
       "      <th>id</th>\n",
       "      <th>name</th>\n",
       "      <th>slug</th>\n",
       "      <th>former_names</th>\n",
       "      <th>small_logo_thumb_url</th>\n",
       "      <th>website</th>\n",
       "      <th>all_locations</th>\n",
       "      <th>long_description</th>\n",
       "      <th>one_liner</th>\n",
       "      <th>...</th>\n",
       "      <th>batch</th>\n",
       "      <th>status</th>\n",
       "      <th>industries</th>\n",
       "      <th>regions</th>\n",
       "      <th>stage</th>\n",
       "      <th>app_video_public</th>\n",
       "      <th>demo_day_video_public</th>\n",
       "      <th>app_answers</th>\n",
       "      <th>question_answers</th>\n",
       "      <th>objectID</th>\n",
       "    </tr>\n",
       "  </thead>\n",
       "  <tbody>\n",
       "    <tr>\n",
       "      <th>0</th>\n",
       "      <td>1</td>\n",
       "      <td>325</td>\n",
       "      <td>Dropbox</td>\n",
       "      <td>dropbox</td>\n",
       "      <td>[]</td>\n",
       "      <td>https://bookface-images.s3.amazonaws.com/small...</td>\n",
       "      <td>http://dropbox.com</td>\n",
       "      <td>San Francisco, CA, USA</td>\n",
       "      <td>Dropbox is building the world’s first smart wo...</td>\n",
       "      <td>Backup and share files in the cloud.</td>\n",
       "      <td>...</td>\n",
       "      <td>S07</td>\n",
       "      <td>Public</td>\n",
       "      <td>[B2B, Productivity]</td>\n",
       "      <td>[United States of America, America / Canada]</td>\n",
       "      <td>Growth</td>\n",
       "      <td>False</td>\n",
       "      <td>False</td>\n",
       "      <td>None</td>\n",
       "      <td>False</td>\n",
       "      <td>325</td>\n",
       "    </tr>\n",
       "  </tbody>\n",
       "</table>\n",
       "<p>1 rows × 33 columns</p>\n",
       "</div>"
      ],
      "text/plain": [
       "0  index   id     name     slug former_names  \\\n",
       "0      1  325  Dropbox  dropbox           []   \n",
       "\n",
       "0                               small_logo_thumb_url             website  \\\n",
       "0  https://bookface-images.s3.amazonaws.com/small...  http://dropbox.com   \n",
       "\n",
       "0           all_locations                                   long_description  \\\n",
       "0  San Francisco, CA, USA  Dropbox is building the world’s first smart wo...   \n",
       "\n",
       "0                             one_liner  ... batch  status  \\\n",
       "0  Backup and share files in the cloud.  ...   S07  Public   \n",
       "\n",
       "0           industries                                       regions   stage  \\\n",
       "0  [B2B, Productivity]  [United States of America, America / Canada]  Growth   \n",
       "\n",
       "0 app_video_public demo_day_video_public app_answers question_answers objectID  \n",
       "0            False                 False        None            False      325  \n",
       "\n",
       "[1 rows x 33 columns]"
      ]
     },
     "execution_count": 14,
     "metadata": {},
     "output_type": "execute_result"
    }
   ],
   "source": [
    "df"
   ]
  },
  {
   "cell_type": "code",
   "execution_count": 15,
   "id": "e79eb033-1d35-4fc2-8494-2ec1991add44",
   "metadata": {
    "tags": []
   },
   "outputs": [],
   "source": [
    "df.drop(columns='index', inplace = True)"
   ]
  },
  {
   "cell_type": "code",
   "execution_count": 16,
   "id": "28358f62-435e-49ea-97ad-2ffac9493d7a",
   "metadata": {
    "tags": []
   },
   "outputs": [
    {
     "data": {
      "text/html": [
       "<div>\n",
       "<style scoped>\n",
       "    .dataframe tbody tr th:only-of-type {\n",
       "        vertical-align: middle;\n",
       "    }\n",
       "\n",
       "    .dataframe tbody tr th {\n",
       "        vertical-align: top;\n",
       "    }\n",
       "\n",
       "    .dataframe thead th {\n",
       "        text-align: right;\n",
       "    }\n",
       "</style>\n",
       "<table border=\"1\" class=\"dataframe\">\n",
       "  <thead>\n",
       "    <tr style=\"text-align: right;\">\n",
       "      <th></th>\n",
       "      <th>id</th>\n",
       "      <th>name</th>\n",
       "      <th>slug</th>\n",
       "      <th>former_names</th>\n",
       "      <th>small_logo_thumb_url</th>\n",
       "      <th>website</th>\n",
       "      <th>all_locations</th>\n",
       "      <th>long_description</th>\n",
       "      <th>one_liner</th>\n",
       "      <th>team_size</th>\n",
       "      <th>...</th>\n",
       "      <th>batch</th>\n",
       "      <th>status</th>\n",
       "      <th>industries</th>\n",
       "      <th>regions</th>\n",
       "      <th>stage</th>\n",
       "      <th>app_video_public</th>\n",
       "      <th>demo_day_video_public</th>\n",
       "      <th>app_answers</th>\n",
       "      <th>question_answers</th>\n",
       "      <th>objectID</th>\n",
       "    </tr>\n",
       "  </thead>\n",
       "  <tbody>\n",
       "    <tr>\n",
       "      <th>0</th>\n",
       "      <td>325</td>\n",
       "      <td>Dropbox</td>\n",
       "      <td>dropbox</td>\n",
       "      <td>[]</td>\n",
       "      <td>https://bookface-images.s3.amazonaws.com/small...</td>\n",
       "      <td>http://dropbox.com</td>\n",
       "      <td>San Francisco, CA, USA</td>\n",
       "      <td>Dropbox is building the world’s first smart wo...</td>\n",
       "      <td>Backup and share files in the cloud.</td>\n",
       "      <td>4000</td>\n",
       "      <td>...</td>\n",
       "      <td>S07</td>\n",
       "      <td>Public</td>\n",
       "      <td>[B2B, Productivity]</td>\n",
       "      <td>[United States of America, America / Canada]</td>\n",
       "      <td>Growth</td>\n",
       "      <td>False</td>\n",
       "      <td>False</td>\n",
       "      <td>None</td>\n",
       "      <td>False</td>\n",
       "      <td>325</td>\n",
       "    </tr>\n",
       "  </tbody>\n",
       "</table>\n",
       "<p>1 rows × 32 columns</p>\n",
       "</div>"
      ],
      "text/plain": [
       "0   id     name     slug former_names  \\\n",
       "0  325  Dropbox  dropbox           []   \n",
       "\n",
       "0                               small_logo_thumb_url             website  \\\n",
       "0  https://bookface-images.s3.amazonaws.com/small...  http://dropbox.com   \n",
       "\n",
       "0           all_locations                                   long_description  \\\n",
       "0  San Francisco, CA, USA  Dropbox is building the world’s first smart wo...   \n",
       "\n",
       "0                             one_liner team_size  ... batch  status  \\\n",
       "0  Backup and share files in the cloud.      4000  ...   S07  Public   \n",
       "\n",
       "0           industries                                       regions   stage  \\\n",
       "0  [B2B, Productivity]  [United States of America, America / Canada]  Growth   \n",
       "\n",
       "0 app_video_public demo_day_video_public app_answers question_answers objectID  \n",
       "0            False                 False        None            False      325  \n",
       "\n",
       "[1 rows x 32 columns]"
      ]
     },
     "execution_count": 16,
     "metadata": {},
     "output_type": "execute_result"
    }
   ],
   "source": [
    "df"
   ]
  },
  {
   "cell_type": "code",
   "execution_count": 17,
   "id": "53ed58e7-acc6-4822-a233-2cabd3cfcb69",
   "metadata": {
    "tags": []
   },
   "outputs": [],
   "source": [
    "for i in range(1, len(companies)):\n",
    "    df.loc[i] = companies[i].values()"
   ]
  },
  {
   "cell_type": "code",
   "execution_count": 18,
   "id": "0d3bd7af-6e4a-457e-9b0f-f367d8af834c",
   "metadata": {
    "tags": []
   },
   "outputs": [
    {
     "name": "stdout",
     "output_type": "stream",
     "text": [
      "<class 'pandas.core.frame.DataFrame'>\n",
      "Index: 4410 entries, 0 to 4409\n",
      "Data columns (total 32 columns):\n",
      " #   Column                  Non-Null Count  Dtype \n",
      "---  ------                  --------------  ----- \n",
      " 0   id                      4410 non-null   object\n",
      " 1   name                    4410 non-null   object\n",
      " 2   slug                    4410 non-null   object\n",
      " 3   former_names            4410 non-null   object\n",
      " 4   small_logo_thumb_url    4410 non-null   object\n",
      " 5   website                 4409 non-null   object\n",
      " 6   all_locations           4410 non-null   object\n",
      " 7   long_description        4372 non-null   object\n",
      " 8   one_liner               4410 non-null   object\n",
      " 9   team_size               4344 non-null   object\n",
      " 10  highlight_black         4410 non-null   object\n",
      " 11  highlight_latinx        4410 non-null   object\n",
      " 12  highlight_women         4410 non-null   object\n",
      " 13  industry                4410 non-null   object\n",
      " 14  subindustry             4410 non-null   object\n",
      " 15  launched_at             4410 non-null   object\n",
      " 16  tags                    4410 non-null   object\n",
      " 17  tags_highlighted        4410 non-null   object\n",
      " 18  top_company             4410 non-null   object\n",
      " 19  top_company_by_revenue  4410 non-null   object\n",
      " 20  isHiring                4410 non-null   object\n",
      " 21  nonprofit               4410 non-null   object\n",
      " 22  batch                   4410 non-null   object\n",
      " 23  status                  4410 non-null   object\n",
      " 24  industries              4410 non-null   object\n",
      " 25  regions                 4410 non-null   object\n",
      " 26  stage                   4410 non-null   object\n",
      " 27  app_video_public        4410 non-null   object\n",
      " 28  demo_day_video_public   4410 non-null   object\n",
      " 29  app_answers             112 non-null    object\n",
      " 30  question_answers        4410 non-null   object\n",
      " 31  objectID                4410 non-null   object\n",
      "dtypes: object(32)\n",
      "memory usage: 1.1+ MB\n"
     ]
    }
   ],
   "source": [
    "df.info()"
   ]
  },
  {
   "cell_type": "code",
   "execution_count": 1,
   "id": "8b031220-ede3-41a3-b206-bbb728a93d8d",
   "metadata": {
    "tags": []
   },
   "outputs": [
    {
     "ename": "NameError",
     "evalue": "name 'df' is not defined",
     "output_type": "error",
     "traceback": [
      "\u001b[0;31m---------------------------------------------------------------------------\u001b[0m",
      "\u001b[0;31mNameError\u001b[0m                                 Traceback (most recent call last)",
      "Cell \u001b[0;32mIn[1], line 1\u001b[0m\n\u001b[0;32m----> 1\u001b[0m df\u001b[38;5;241m.\u001b[39mhead()\n",
      "\u001b[0;31mNameError\u001b[0m: name 'df' is not defined"
     ]
    }
   ],
   "source": [
    "df.head()"
   ]
  },
  {
   "cell_type": "code",
   "execution_count": 20,
   "id": "d946d941-e3f3-48c9-a8cc-211758b7032f",
   "metadata": {
    "tags": []
   },
   "outputs": [
    {
     "data": {
      "text/plain": [
       "status\n",
       "Active      3161\n",
       "Inactive     710\n",
       "Acquired     522\n",
       "Public        17\n",
       "Name: count, dtype: int64"
      ]
     },
     "execution_count": 20,
     "metadata": {},
     "output_type": "execute_result"
    }
   ],
   "source": [
    "df['status'].value_counts()"
   ]
  },
  {
   "cell_type": "code",
   "execution_count": 22,
   "id": "0654d5bc-a9e7-4249-b253-8a1d3f91e088",
   "metadata": {},
   "outputs": [],
   "source": [
    "df.to_csv('YCombinatorStartups.csv')"
   ]
  },
  {
   "cell_type": "code",
   "execution_count": null,
   "id": "36b2c7d7-e7fa-4b2c-907f-9e598bed904d",
   "metadata": {},
   "outputs": [],
   "source": []
  }
 ],
 "metadata": {
  "kernelspec": {
   "display_name": "Python 3 (ipykernel)",
   "language": "python",
   "name": "python3"
  },
  "language_info": {
   "codemirror_mode": {
    "name": "ipython",
    "version": 3
   },
   "file_extension": ".py",
   "mimetype": "text/x-python",
   "name": "python",
   "nbconvert_exporter": "python",
   "pygments_lexer": "ipython3",
   "version": "3.11.5"
  }
 },
 "nbformat": 4,
 "nbformat_minor": 5
}
